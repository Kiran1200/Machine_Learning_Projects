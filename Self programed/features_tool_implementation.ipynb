{
 "cells": [
  {
   "cell_type": "code",
   "execution_count": 69,
   "metadata": {},
   "outputs": [],
   "source": [
    "import pandas as pd\n",
    "import featuretools as ft"
   ]
  },
  {
   "cell_type": "code",
   "execution_count": 70,
   "metadata": {},
   "outputs": [
    {
     "output_type": "execute_result",
     "data": {
      "text/plain": "(8523, 12)"
     },
     "metadata": {},
     "execution_count": 70
    }
   ],
   "source": [
    "df = pd.read_csv('train_bm.csv')\n",
    "df.shape"
   ]
  },
  {
   "cell_type": "code",
   "execution_count": 71,
   "metadata": {},
   "outputs": [],
   "source": [
    "features = df.drop('Item_Outlet_Sales', axis=1)\n",
    "y = df['Item_Outlet_Sales']"
   ]
  },
  {
   "cell_type": "code",
   "execution_count": 72,
   "metadata": {},
   "outputs": [],
   "source": [
    "# Make an entityset and add the entity"
   ]
  },
  {
   "cell_type": "code",
   "execution_count": 73,
   "metadata": {},
   "outputs": [
    {
     "output_type": "execute_result",
     "data": {
      "text/plain": "Entityset: bigmart\n  Entities:\n  Relationships:\n    No relationships"
     },
     "metadata": {},
     "execution_count": 73
    }
   ],
   "source": [
    "es = ft.EntitySet(id = 'bigmart')\n",
    "es"
   ]
  },
  {
   "cell_type": "code",
   "execution_count": 74,
   "metadata": {},
   "outputs": [],
   "source": [
    "# Add data to this entityset created"
   ]
  },
  {
   "cell_type": "code",
   "execution_count": 75,
   "metadata": {},
   "outputs": [
    {
     "output_type": "execute_result",
     "data": {
      "text/plain": "Entityset: bigmart\n  Entities:\n    data_1 [Rows: 8523, Columns: 12]\n  Relationships:\n    No relationships"
     },
     "metadata": {},
     "execution_count": 75
    }
   ],
   "source": [
    "es.entity_from_dataframe(entity_id = 'data_1', dataframe = features, \n",
    "                         make_index = True, index = 'index')\n",
    "\n",
    "es"
   ]
  },
  {
   "cell_type": "code",
   "execution_count": 76,
   "metadata": {},
   "outputs": [],
   "source": [
    "# Feature Engineering"
   ]
  },
  {
   "cell_type": "code",
   "execution_count": 77,
   "metadata": {},
   "outputs": [
    {
     "output_type": "execute_result",
     "data": {
      "text/plain": "      Item_Identifier  Item_Weight Item_Fat_Content  Item_Visibility  \\\nindex                                                                  \n0               FDA15         9.30          Low Fat         0.016047   \n1               DRC01         5.92          Regular         0.019278   \n2               FDN15        17.50          Low Fat         0.016760   \n3               FDX07        19.20          Regular         0.000000   \n4               NCD19         8.93          Low Fat         0.000000   \n\n                   Item_Type  Item_MRP Outlet_Identifier  \\\nindex                                                      \n0                      Dairy  249.8092            OUT049   \n1                Soft Drinks   48.2692            OUT018   \n2                       Meat  141.6180            OUT049   \n3      Fruits and Vegetables  182.0950            OUT010   \n4                  Household   53.8614            OUT013   \n\n       Outlet_Establishment_Year Outlet_Size Outlet_Location_Type  ...  \\\nindex                                                              ...   \n0                           1999      Medium               Tier 1  ...   \n1                           2009      Medium               Tier 3  ...   \n2                           1999      Medium               Tier 1  ...   \n3                           1998         NaN               Tier 3  ...   \n4                           1987        High               Tier 3  ...   \n\n      Item_Visibility + Outlet_Establishment_Year  Item_MRP + Item_Weight  \\\nindex                                                                       \n0                                     1999.016047                259.1092   \n1                                     2009.019278                 54.1892   \n2                                     1999.016760                159.1180   \n3                                     1998.000000                201.2950   \n4                                     1987.000000                 62.7914   \n\n       Item_MRP + Item_Visibility  Item_Visibility + Item_Weight  \\\nindex                                                              \n0                      249.825247                       9.316047   \n1                       48.288478                       5.939278   \n2                      141.634760                      17.516760   \n3                      182.095000                      19.200000   \n4                       53.861400                       8.930000   \n\n       Item_MRP * Outlet_Establishment_Year  \\\nindex                                         \n0                               499368.5908   \n1                                96972.8228   \n2                               283094.3820   \n3                               363825.8100   \n4                               107022.6018   \n\n       Item_Weight * Outlet_Establishment_Year  \\\nindex                                            \n0                                     18590.70   \n1                                     11893.28   \n2                                     34982.50   \n3                                     38361.60   \n4                                     17743.91   \n\n       Item_Visibility * Outlet_Establishment_Year  Item_MRP * Item_Weight  \\\nindex                                                                        \n0                                        32.078555             2323.225560   \n1                                        38.729936              285.753664   \n2                                        33.503390             2478.315000   \n3                                         0.000000             3496.224000   \n4                                         0.000000              480.982302   \n\n       Item_MRP * Item_Visibility  Item_Visibility * Item_Weight  \nindex                                                             \n0                        4.008763                       0.149240  \n1                        0.930544                       0.114127  \n2                        2.373528                       0.293301  \n3                        0.000000                       0.000000  \n4                        0.000000                       0.000000  \n\n[5 rows x 23 columns]",
      "text/html": "<div>\n<style scoped>\n    .dataframe tbody tr th:only-of-type {\n        vertical-align: middle;\n    }\n\n    .dataframe tbody tr th {\n        vertical-align: top;\n    }\n\n    .dataframe thead th {\n        text-align: right;\n    }\n</style>\n<table border=\"1\" class=\"dataframe\">\n  <thead>\n    <tr style=\"text-align: right;\">\n      <th></th>\n      <th>Item_Identifier</th>\n      <th>Item_Weight</th>\n      <th>Item_Fat_Content</th>\n      <th>Item_Visibility</th>\n      <th>Item_Type</th>\n      <th>Item_MRP</th>\n      <th>Outlet_Identifier</th>\n      <th>Outlet_Establishment_Year</th>\n      <th>Outlet_Size</th>\n      <th>Outlet_Location_Type</th>\n      <th>...</th>\n      <th>Item_Visibility + Outlet_Establishment_Year</th>\n      <th>Item_MRP + Item_Weight</th>\n      <th>Item_MRP + Item_Visibility</th>\n      <th>Item_Visibility + Item_Weight</th>\n      <th>Item_MRP * Outlet_Establishment_Year</th>\n      <th>Item_Weight * Outlet_Establishment_Year</th>\n      <th>Item_Visibility * Outlet_Establishment_Year</th>\n      <th>Item_MRP * Item_Weight</th>\n      <th>Item_MRP * Item_Visibility</th>\n      <th>Item_Visibility * Item_Weight</th>\n    </tr>\n    <tr>\n      <th>index</th>\n      <th></th>\n      <th></th>\n      <th></th>\n      <th></th>\n      <th></th>\n      <th></th>\n      <th></th>\n      <th></th>\n      <th></th>\n      <th></th>\n      <th></th>\n      <th></th>\n      <th></th>\n      <th></th>\n      <th></th>\n      <th></th>\n      <th></th>\n      <th></th>\n      <th></th>\n      <th></th>\n      <th></th>\n    </tr>\n  </thead>\n  <tbody>\n    <tr>\n      <th>0</th>\n      <td>FDA15</td>\n      <td>9.30</td>\n      <td>Low Fat</td>\n      <td>0.016047</td>\n      <td>Dairy</td>\n      <td>249.8092</td>\n      <td>OUT049</td>\n      <td>1999</td>\n      <td>Medium</td>\n      <td>Tier 1</td>\n      <td>...</td>\n      <td>1999.016047</td>\n      <td>259.1092</td>\n      <td>249.825247</td>\n      <td>9.316047</td>\n      <td>499368.5908</td>\n      <td>18590.70</td>\n      <td>32.078555</td>\n      <td>2323.225560</td>\n      <td>4.008763</td>\n      <td>0.149240</td>\n    </tr>\n    <tr>\n      <th>1</th>\n      <td>DRC01</td>\n      <td>5.92</td>\n      <td>Regular</td>\n      <td>0.019278</td>\n      <td>Soft Drinks</td>\n      <td>48.2692</td>\n      <td>OUT018</td>\n      <td>2009</td>\n      <td>Medium</td>\n      <td>Tier 3</td>\n      <td>...</td>\n      <td>2009.019278</td>\n      <td>54.1892</td>\n      <td>48.288478</td>\n      <td>5.939278</td>\n      <td>96972.8228</td>\n      <td>11893.28</td>\n      <td>38.729936</td>\n      <td>285.753664</td>\n      <td>0.930544</td>\n      <td>0.114127</td>\n    </tr>\n    <tr>\n      <th>2</th>\n      <td>FDN15</td>\n      <td>17.50</td>\n      <td>Low Fat</td>\n      <td>0.016760</td>\n      <td>Meat</td>\n      <td>141.6180</td>\n      <td>OUT049</td>\n      <td>1999</td>\n      <td>Medium</td>\n      <td>Tier 1</td>\n      <td>...</td>\n      <td>1999.016760</td>\n      <td>159.1180</td>\n      <td>141.634760</td>\n      <td>17.516760</td>\n      <td>283094.3820</td>\n      <td>34982.50</td>\n      <td>33.503390</td>\n      <td>2478.315000</td>\n      <td>2.373528</td>\n      <td>0.293301</td>\n    </tr>\n    <tr>\n      <th>3</th>\n      <td>FDX07</td>\n      <td>19.20</td>\n      <td>Regular</td>\n      <td>0.000000</td>\n      <td>Fruits and Vegetables</td>\n      <td>182.0950</td>\n      <td>OUT010</td>\n      <td>1998</td>\n      <td>NaN</td>\n      <td>Tier 3</td>\n      <td>...</td>\n      <td>1998.000000</td>\n      <td>201.2950</td>\n      <td>182.095000</td>\n      <td>19.200000</td>\n      <td>363825.8100</td>\n      <td>38361.60</td>\n      <td>0.000000</td>\n      <td>3496.224000</td>\n      <td>0.000000</td>\n      <td>0.000000</td>\n    </tr>\n    <tr>\n      <th>4</th>\n      <td>NCD19</td>\n      <td>8.93</td>\n      <td>Low Fat</td>\n      <td>0.000000</td>\n      <td>Household</td>\n      <td>53.8614</td>\n      <td>OUT013</td>\n      <td>1987</td>\n      <td>High</td>\n      <td>Tier 3</td>\n      <td>...</td>\n      <td>1987.000000</td>\n      <td>62.7914</td>\n      <td>53.861400</td>\n      <td>8.930000</td>\n      <td>107022.6018</td>\n      <td>17743.91</td>\n      <td>0.000000</td>\n      <td>480.982302</td>\n      <td>0.000000</td>\n      <td>0.000000</td>\n    </tr>\n  </tbody>\n</table>\n<p>5 rows × 23 columns</p>\n</div>"
     },
     "metadata": {},
     "execution_count": 77
    }
   ],
   "source": [
    "# Run deep feature synthesis with transformation primitives\n",
    "feature_matrix, feature_defs = ft.dfs(entityset = es, target_entity = 'data_1', max_depth=1,\n",
    "                                      trans_primitives = ['add_numeric', 'multiply_numeric'])\n",
    "\n",
    "feature_matrix.head()"
   ]
  },
  {
   "cell_type": "code",
   "execution_count": 78,
   "metadata": {},
   "outputs": [
    {
     "output_type": "execute_result",
     "data": {
      "text/plain": "[<Feature: Item_Identifier>,\n <Feature: Item_Weight>,\n <Feature: Item_Fat_Content>,\n <Feature: Item_Visibility>,\n <Feature: Item_Type>,\n <Feature: Item_MRP>,\n <Feature: Outlet_Identifier>,\n <Feature: Outlet_Establishment_Year>,\n <Feature: Outlet_Size>,\n <Feature: Outlet_Location_Type>,\n <Feature: Outlet_Type>,\n <Feature: Item_MRP + Outlet_Establishment_Year>,\n <Feature: Item_Weight + Outlet_Establishment_Year>,\n <Feature: Item_Visibility + Outlet_Establishment_Year>,\n <Feature: Item_MRP + Item_Weight>,\n <Feature: Item_MRP + Item_Visibility>,\n <Feature: Item_Visibility + Item_Weight>,\n <Feature: Item_MRP * Outlet_Establishment_Year>,\n <Feature: Item_Weight * Outlet_Establishment_Year>,\n <Feature: Item_Visibility * Outlet_Establishment_Year>,\n <Feature: Item_MRP * Item_Weight>,\n <Feature: Item_MRP * Item_Visibility>,\n <Feature: Item_Visibility * Item_Weight>]"
     },
     "metadata": {},
     "execution_count": 78
    }
   ],
   "source": [
    "feature_defs"
   ]
  },
  {
   "cell_type": "code",
   "execution_count": 79,
   "metadata": {},
   "outputs": [
    {
     "output_type": "execute_result",
     "data": {
      "text/plain": "(8523, 23)"
     },
     "metadata": {},
     "execution_count": 79
    }
   ],
   "source": [
    "feature_matrix.shape"
   ]
  },
  {
   "cell_type": "code",
   "execution_count": 80,
   "metadata": {},
   "outputs": [
    {
     "output_type": "execute_result",
     "data": {
      "text/plain": "      Item_Identifier  Item_Weight Item_Fat_Content  Item_Visibility  \\\nindex                                                                  \n0               FDA15         9.30          Low Fat         0.016047   \n1               DRC01         5.92          Regular         0.019278   \n2               FDN15        17.50          Low Fat         0.016760   \n3               FDX07        19.20          Regular         0.000000   \n4               NCD19         8.93          Low Fat         0.000000   \n\n                   Item_Type  Item_MRP Outlet_Identifier  \\\nindex                                                      \n0                      Dairy  249.8092            OUT049   \n1                Soft Drinks   48.2692            OUT018   \n2                       Meat  141.6180            OUT049   \n3      Fruits and Vegetables  182.0950            OUT010   \n4                  Household   53.8614            OUT013   \n\n       Outlet_Establishment_Year Outlet_Size Outlet_Location_Type  ...  \\\nindex                                                              ...   \n0                           1999      Medium               Tier 1  ...   \n1                           2009      Medium               Tier 3  ...   \n2                           1999      Medium               Tier 1  ...   \n3                           1998         NaN               Tier 3  ...   \n4                           1987        High               Tier 3  ...   \n\n      Item_MRP + Outlet_Establishment_Year * Item_Weight  \\\nindex                                                      \n0                                           20913.925560   \n1                                           12179.033664   \n2                                           37460.815000   \n3                                           41857.824000   \n4                                           18224.892302   \n\n       Item_Visibility + Item_Weight * Item_Visibility + Outlet_Establishment_Year  \\\nindex                                                                                \n0                                           18622.928052                             \n1                                           11932.124435                             \n2                                           35016.296972                             \n3                                           38361.600000                             \n4                                           17743.910000                             \n\n       Item_MRP + Item_Weight * Item_Weight  \\\nindex                                         \n0                               2409.715560   \n1                                320.800064   \n2                               2784.565000   \n3                               3864.864000   \n4                                560.727202   \n\n       Item_Visibility + Outlet_Establishment_Year * Item_Weight  \\\nindex                                                              \n0                                           18590.849240           \n1                                           11893.394127           \n2                                           34982.793301           \n3                                           38361.600000           \n4                                           17743.910000           \n\n       Item_MRP + Item_Visibility * Item_Visibility + Outlet_Establishment_Year  \\\nindex                                                                             \n0                                          499404.678376                          \n1                                           97012.483652                          \n2                                          283130.259199                          \n3                                          363825.810000                          \n4                                          107022.601800                          \n\n       Item_MRP + Outlet_Establishment_Year * Item_Weight + Outlet_Establishment_Year  \\\nindex                                                                                   \n0                                           4.516284e+06                                \n1                                           4.145233e+06                                \n2                                           4.316556e+06                                \n3                                           4.397688e+06                                \n4                                           4.073416e+06                                \n\n       Item_MRP * Item_MRP + Item_Visibility  \\\nindex                                          \n0                               62408.645168   \n1                                2330.846213   \n2                               20058.031452   \n3                               33158.589025   \n4                                2901.050410   \n\n       Item_MRP + Item_Visibility * Item_Visibility  \\\nindex                                                 \n0                                          4.009021   \n1                                          0.930916   \n2                                          2.373809   \n3                                          0.000000   \n4                                          0.000000   \n\n       Item_MRP + Outlet_Establishment_Year * Item_Visibility + Outlet_Establishment_Year  \\\nindex                                                                                       \n0                                           4.495406e+06                                    \n1                                           4.133093e+06                                    \n2                                           4.279131e+06                                    \n3                                           4.355830e+06                                    \n4                                           4.055192e+06                                    \n\n       Item_MRP + Item_Visibility * Item_Weight + Outlet_Establishment_Year  \nindex                                                                        \n0                                          501724.044155                     \n1                                           97297.420527                     \n2                                          285606.493691                     \n3                                          367322.034000                     \n4                                          107503.584102                     \n\n[5 rows x 62 columns]",
      "text/html": "<div>\n<style scoped>\n    .dataframe tbody tr th:only-of-type {\n        vertical-align: middle;\n    }\n\n    .dataframe tbody tr th {\n        vertical-align: top;\n    }\n\n    .dataframe thead th {\n        text-align: right;\n    }\n</style>\n<table border=\"1\" class=\"dataframe\">\n  <thead>\n    <tr style=\"text-align: right;\">\n      <th></th>\n      <th>Item_Identifier</th>\n      <th>Item_Weight</th>\n      <th>Item_Fat_Content</th>\n      <th>Item_Visibility</th>\n      <th>Item_Type</th>\n      <th>Item_MRP</th>\n      <th>Outlet_Identifier</th>\n      <th>Outlet_Establishment_Year</th>\n      <th>Outlet_Size</th>\n      <th>Outlet_Location_Type</th>\n      <th>...</th>\n      <th>Item_MRP + Outlet_Establishment_Year * Item_Weight</th>\n      <th>Item_Visibility + Item_Weight * Item_Visibility + Outlet_Establishment_Year</th>\n      <th>Item_MRP + Item_Weight * Item_Weight</th>\n      <th>Item_Visibility + Outlet_Establishment_Year * Item_Weight</th>\n      <th>Item_MRP + Item_Visibility * Item_Visibility + Outlet_Establishment_Year</th>\n      <th>Item_MRP + Outlet_Establishment_Year * Item_Weight + Outlet_Establishment_Year</th>\n      <th>Item_MRP * Item_MRP + Item_Visibility</th>\n      <th>Item_MRP + Item_Visibility * Item_Visibility</th>\n      <th>Item_MRP + Outlet_Establishment_Year * Item_Visibility + Outlet_Establishment_Year</th>\n      <th>Item_MRP + Item_Visibility * Item_Weight + Outlet_Establishment_Year</th>\n    </tr>\n    <tr>\n      <th>index</th>\n      <th></th>\n      <th></th>\n      <th></th>\n      <th></th>\n      <th></th>\n      <th></th>\n      <th></th>\n      <th></th>\n      <th></th>\n      <th></th>\n      <th></th>\n      <th></th>\n      <th></th>\n      <th></th>\n      <th></th>\n      <th></th>\n      <th></th>\n      <th></th>\n      <th></th>\n      <th></th>\n      <th></th>\n    </tr>\n  </thead>\n  <tbody>\n    <tr>\n      <th>0</th>\n      <td>FDA15</td>\n      <td>9.30</td>\n      <td>Low Fat</td>\n      <td>0.016047</td>\n      <td>Dairy</td>\n      <td>249.8092</td>\n      <td>OUT049</td>\n      <td>1999</td>\n      <td>Medium</td>\n      <td>Tier 1</td>\n      <td>...</td>\n      <td>20913.925560</td>\n      <td>18622.928052</td>\n      <td>2409.715560</td>\n      <td>18590.849240</td>\n      <td>499404.678376</td>\n      <td>4.516284e+06</td>\n      <td>62408.645168</td>\n      <td>4.009021</td>\n      <td>4.495406e+06</td>\n      <td>501724.044155</td>\n    </tr>\n    <tr>\n      <th>1</th>\n      <td>DRC01</td>\n      <td>5.92</td>\n      <td>Regular</td>\n      <td>0.019278</td>\n      <td>Soft Drinks</td>\n      <td>48.2692</td>\n      <td>OUT018</td>\n      <td>2009</td>\n      <td>Medium</td>\n      <td>Tier 3</td>\n      <td>...</td>\n      <td>12179.033664</td>\n      <td>11932.124435</td>\n      <td>320.800064</td>\n      <td>11893.394127</td>\n      <td>97012.483652</td>\n      <td>4.145233e+06</td>\n      <td>2330.846213</td>\n      <td>0.930916</td>\n      <td>4.133093e+06</td>\n      <td>97297.420527</td>\n    </tr>\n    <tr>\n      <th>2</th>\n      <td>FDN15</td>\n      <td>17.50</td>\n      <td>Low Fat</td>\n      <td>0.016760</td>\n      <td>Meat</td>\n      <td>141.6180</td>\n      <td>OUT049</td>\n      <td>1999</td>\n      <td>Medium</td>\n      <td>Tier 1</td>\n      <td>...</td>\n      <td>37460.815000</td>\n      <td>35016.296972</td>\n      <td>2784.565000</td>\n      <td>34982.793301</td>\n      <td>283130.259199</td>\n      <td>4.316556e+06</td>\n      <td>20058.031452</td>\n      <td>2.373809</td>\n      <td>4.279131e+06</td>\n      <td>285606.493691</td>\n    </tr>\n    <tr>\n      <th>3</th>\n      <td>FDX07</td>\n      <td>19.20</td>\n      <td>Regular</td>\n      <td>0.000000</td>\n      <td>Fruits and Vegetables</td>\n      <td>182.0950</td>\n      <td>OUT010</td>\n      <td>1998</td>\n      <td>NaN</td>\n      <td>Tier 3</td>\n      <td>...</td>\n      <td>41857.824000</td>\n      <td>38361.600000</td>\n      <td>3864.864000</td>\n      <td>38361.600000</td>\n      <td>363825.810000</td>\n      <td>4.397688e+06</td>\n      <td>33158.589025</td>\n      <td>0.000000</td>\n      <td>4.355830e+06</td>\n      <td>367322.034000</td>\n    </tr>\n    <tr>\n      <th>4</th>\n      <td>NCD19</td>\n      <td>8.93</td>\n      <td>Low Fat</td>\n      <td>0.000000</td>\n      <td>Household</td>\n      <td>53.8614</td>\n      <td>OUT013</td>\n      <td>1987</td>\n      <td>High</td>\n      <td>Tier 3</td>\n      <td>...</td>\n      <td>18224.892302</td>\n      <td>17743.910000</td>\n      <td>560.727202</td>\n      <td>17743.910000</td>\n      <td>107022.601800</td>\n      <td>4.073416e+06</td>\n      <td>2901.050410</td>\n      <td>0.000000</td>\n      <td>4.055192e+06</td>\n      <td>107503.584102</td>\n    </tr>\n  </tbody>\n</table>\n<p>5 rows × 62 columns</p>\n</div>"
     },
     "metadata": {},
     "execution_count": 80
    }
   ],
   "source": [
    "# Run deep feature synthesis with transformation primitives\n",
    "feature_matrix, feature_defs = ft.dfs(entityset = es, target_entity = 'data_1', max_depth=2,\n",
    "                                      trans_primitives = ['add_numeric', 'multiply_numeric'])\n",
    "\n",
    "feature_matrix.head()"
   ]
  },
  {
   "cell_type": "code",
   "execution_count": 81,
   "metadata": {},
   "outputs": [
    {
     "output_type": "execute_result",
     "data": {
      "text/plain": "[<Feature: Item_Identifier>,\n <Feature: Item_Weight>,\n <Feature: Item_Fat_Content>,\n <Feature: Item_Visibility>,\n <Feature: Item_Type>,\n <Feature: Item_MRP>,\n <Feature: Outlet_Identifier>,\n <Feature: Outlet_Establishment_Year>,\n <Feature: Outlet_Size>,\n <Feature: Outlet_Location_Type>,\n <Feature: Outlet_Type>,\n <Feature: Item_MRP + Outlet_Establishment_Year>,\n <Feature: Item_Weight + Outlet_Establishment_Year>,\n <Feature: Item_Visibility + Outlet_Establishment_Year>,\n <Feature: Item_MRP + Item_Weight>,\n <Feature: Item_MRP + Item_Visibility>,\n <Feature: Item_Visibility + Item_Weight>,\n <Feature: Item_MRP * Outlet_Establishment_Year>,\n <Feature: Item_Visibility * Outlet_Establishment_Year>,\n <Feature: Item_MRP * Item_Weight>,\n <Feature: Item_MRP * Item_Visibility>,\n <Feature: Item_Visibility * Item_Weight>,\n <Feature: Item_Weight * Outlet_Establishment_Year>,\n <Feature: Item_Visibility + Outlet_Establishment_Year * Item_Weight + Outlet_Establishment_Year>,\n <Feature: Item_Visibility * Item_Weight + Outlet_Establishment_Year>,\n <Feature: Item_MRP + Item_Weight * Item_Weight + Outlet_Establishment_Year>,\n <Feature: Item_MRP + Outlet_Establishment_Year * Item_Visibility>,\n <Feature: Item_MRP + Item_Visibility * Item_MRP + Item_Weight>,\n <Feature: Item_Visibility + Item_Weight * Item_Weight>,\n <Feature: Item_Visibility + Item_Weight * Outlet_Establishment_Year>,\n <Feature: Item_MRP * Item_MRP + Outlet_Establishment_Year>,\n <Feature: Item_Visibility * Item_Visibility + Item_Weight>,\n <Feature: Item_MRP + Item_Visibility * Outlet_Establishment_Year>,\n <Feature: Item_MRP + Item_Weight * Item_Visibility + Item_Weight>,\n <Feature: Item_MRP * Item_Visibility + Outlet_Establishment_Year>,\n <Feature: Item_MRP + Outlet_Establishment_Year * Outlet_Establishment_Year>,\n <Feature: Item_MRP * Item_Visibility + Item_Weight>,\n <Feature: Item_Weight + Outlet_Establishment_Year * Outlet_Establishment_Year>,\n <Feature: Item_MRP + Item_Weight * Item_MRP + Outlet_Establishment_Year>,\n <Feature: Item_MRP + Item_Weight * Item_Visibility + Outlet_Establishment_Year>,\n <Feature: Item_Visibility * Item_Visibility + Outlet_Establishment_Year>,\n <Feature: Item_MRP + Item_Visibility * Item_MRP + Outlet_Establishment_Year>,\n <Feature: Item_MRP + Item_Weight * Item_Visibility>,\n <Feature: Item_Visibility + Item_Weight * Item_Weight + Outlet_Establishment_Year>,\n <Feature: Item_MRP * Item_MRP + Item_Weight>,\n <Feature: Item_MRP + Outlet_Establishment_Year * Item_Visibility + Item_Weight>,\n <Feature: Item_MRP + Item_Visibility * Item_Weight>,\n <Feature: Item_MRP * Item_Weight + Outlet_Establishment_Year>,\n <Feature: Item_Visibility + Outlet_Establishment_Year * Outlet_Establishment_Year>,\n <Feature: Item_MRP + Item_Weight * Outlet_Establishment_Year>,\n <Feature: Item_MRP + Item_Visibility * Item_Visibility + Item_Weight>,\n <Feature: Item_Weight * Item_Weight + Outlet_Establishment_Year>,\n <Feature: Item_MRP + Outlet_Establishment_Year * Item_Weight>,\n <Feature: Item_Visibility + Item_Weight * Item_Visibility + Outlet_Establishment_Year>,\n <Feature: Item_MRP + Item_Weight * Item_Weight>,\n <Feature: Item_Visibility + Outlet_Establishment_Year * Item_Weight>,\n <Feature: Item_MRP + Item_Visibility * Item_Visibility + Outlet_Establishment_Year>,\n <Feature: Item_MRP + Outlet_Establishment_Year * Item_Weight + Outlet_Establishment_Year>,\n <Feature: Item_MRP * Item_MRP + Item_Visibility>,\n <Feature: Item_MRP + Item_Visibility * Item_Visibility>,\n <Feature: Item_MRP + Outlet_Establishment_Year * Item_Visibility + Outlet_Establishment_Year>,\n <Feature: Item_MRP + Item_Visibility * Item_Weight + Outlet_Establishment_Year>]"
     },
     "metadata": {},
     "execution_count": 81
    }
   ],
   "source": [
    "feature_defs"
   ]
  },
  {
   "cell_type": "code",
   "execution_count": null,
   "metadata": {},
   "outputs": [],
   "source": []
  }
 ],
 "metadata": {
  "language_info": {
   "codemirror_mode": {
    "name": "ipython",
    "version": 3
   },
   "file_extension": ".py",
   "mimetype": "text/x-python",
   "name": "python",
   "nbconvert_exporter": "python",
   "pygments_lexer": "ipython3",
   "version": "3.7.4-final"
  },
  "orig_nbformat": 2,
  "kernelspec": {
   "name": "python37432bit0b418af721b34d68a54d4866810f67c5",
   "display_name": "Python 3.7.4 32-bit"
  }
 },
 "nbformat": 4,
 "nbformat_minor": 2
}