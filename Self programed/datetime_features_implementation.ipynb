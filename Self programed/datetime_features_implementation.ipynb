{
 "cells": [
  {
   "cell_type": "code",
   "execution_count": 32,
   "metadata": {},
   "outputs": [],
   "source": [
    "import pandas as pd\n",
    "\n",
    "import warnings\n",
    "warnings.filterwarnings(\"ignore\")"
   ]
  },
  {
   "cell_type": "code",
   "execution_count": 34,
   "metadata": {},
   "outputs": [
    {
     "output_type": "execute_result",
     "data": {
      "text/plain": "             Date_Time  NO2(GT)\n0  10/03/2004 18.00.00      166\n1  10/03/2004 19.00.00     1174\n2  10/03/2004 20.00.00      131\n3  10/03/2004 21.00.00      172\n4  10/03/2004 22.00.00      131",
      "text/html": "<div>\n<style scoped>\n    .dataframe tbody tr th:only-of-type {\n        vertical-align: middle;\n    }\n\n    .dataframe tbody tr th {\n        vertical-align: top;\n    }\n\n    .dataframe thead th {\n        text-align: right;\n    }\n</style>\n<table border=\"1\" class=\"dataframe\">\n  <thead>\n    <tr style=\"text-align: right;\">\n      <th></th>\n      <th>Date_Time</th>\n      <th>NO2(GT)</th>\n    </tr>\n  </thead>\n  <tbody>\n    <tr>\n      <th>0</th>\n      <td>10/03/2004 18.00.00</td>\n      <td>166</td>\n    </tr>\n    <tr>\n      <th>1</th>\n      <td>10/03/2004 19.00.00</td>\n      <td>1174</td>\n    </tr>\n    <tr>\n      <th>2</th>\n      <td>10/03/2004 20.00.00</td>\n      <td>131</td>\n    </tr>\n    <tr>\n      <th>3</th>\n      <td>10/03/2004 21.00.00</td>\n      <td>172</td>\n    </tr>\n    <tr>\n      <th>4</th>\n      <td>10/03/2004 22.00.00</td>\n      <td>131</td>\n    </tr>\n  </tbody>\n</table>\n</div>"
     },
     "metadata": {},
     "execution_count": 34
    }
   ],
   "source": [
    "df = pd.read_csv('No2 dataset.csv')\n",
    "df.head()"
   ]
  },
  {
   "cell_type": "code",
   "execution_count": 35,
   "metadata": {},
   "outputs": [
    {
     "output_type": "execute_result",
     "data": {
      "text/plain": "('31/08/2004 23.00.00', '01/04/2004 00.00.00')"
     },
     "metadata": {},
     "execution_count": 35
    }
   ],
   "source": [
    "df['Date_Time'].max(), df['Date_Time'].min()"
   ]
  },
  {
   "cell_type": "code",
   "execution_count": 36,
   "metadata": {},
   "outputs": [
    {
     "output_type": "execute_result",
     "data": {
      "text/plain": "Date_Time    object\nNO2(GT)       int64\ndtype: object"
     },
     "metadata": {},
     "execution_count": 36
    }
   ],
   "source": [
    "df.dtypes"
   ]
  },
  {
   "cell_type": "code",
   "execution_count": 37,
   "metadata": {},
   "outputs": [],
   "source": [
    "# Convert to datetime"
   ]
  },
  {
   "cell_type": "code",
   "execution_count": 38,
   "metadata": {},
   "outputs": [
    {
     "output_type": "execute_result",
     "data": {
      "text/plain": "Date_Time    datetime64[ns]\nNO2(GT)               int64\ndtype: object"
     },
     "metadata": {},
     "execution_count": 38
    }
   ],
   "source": [
    "df['Date_Time'] = pd.to_datetime(df['Date_Time'], format= '%d/%m/%Y %H.%M.%S')\n",
    "df.dtypes"
   ]
  },
  {
   "cell_type": "code",
   "execution_count": 39,
   "metadata": {},
   "outputs": [],
   "source": [
    "# The format depends on your data. Here are a few examples\n",
    "\n",
    "    #1/12/2001: %d/%m/%Y\n",
    "    #2001/12/1: %Y/%m/%d\n",
    "    #2001-12-01: %Y-%m-%d\n",
    "    #2001-12-01 09:00: %Y-%m-%d %H:%M"
   ]
  },
  {
   "cell_type": "code",
   "execution_count": 40,
   "metadata": {},
   "outputs": [
    {
     "output_type": "execute_result",
     "data": {
      "text/plain": "(Timestamp('2004-09-24 02:00:00'), Timestamp('2004-03-10 18:00:00'))"
     },
     "metadata": {},
     "execution_count": 40
    }
   ],
   "source": [
    "df['Date_Time'].max(), df['Date_Time'].min()"
   ]
  },
  {
   "cell_type": "code",
   "execution_count": 41,
   "metadata": {},
   "outputs": [],
   "source": [
    "# Extract hour and minute"
   ]
  },
  {
   "cell_type": "code",
   "execution_count": 42,
   "metadata": {},
   "outputs": [
    {
     "output_type": "execute_result",
     "data": {
      "text/plain": "0    18\n1    19\n2    20\n3    21\n4    22\nName: Date_Time, dtype: int64"
     },
     "metadata": {},
     "execution_count": 42
    }
   ],
   "source": [
    "df['Date_Time'].dt.hour.head()"
   ]
  },
  {
   "cell_type": "code",
   "execution_count": 43,
   "metadata": {},
   "outputs": [
    {
     "output_type": "execute_result",
     "data": {
      "text/plain": "0    0\n1    0\n2    0\n3    0\n4    0\nName: Date_Time, dtype: int64"
     },
     "metadata": {},
     "execution_count": 43
    }
   ],
   "source": [
    "df['Date_Time'].dt.minute.head()"
   ]
  },
  {
   "cell_type": "code",
   "execution_count": 44,
   "metadata": {},
   "outputs": [],
   "source": [
    "# The day of week - Monday (0) to Sunday (6)"
   ]
  },
  {
   "cell_type": "code",
   "execution_count": 45,
   "metadata": {},
   "outputs": [
    {
     "output_type": "execute_result",
     "data": {
      "text/plain": "0    2\n1    2\n2    2\n3    2\n4    2\n5    2\n6    3\nName: Date_Time, dtype: int64"
     },
     "metadata": {},
     "execution_count": 45
    }
   ],
   "source": [
    "df['Date_Time'].dt.dayofweek.head(7) "
   ]
  },
  {
   "cell_type": "code",
   "execution_count": 57,
   "metadata": {},
   "outputs": [
    {
     "output_type": "error",
     "ename": "AttributeError",
     "evalue": "'DatetimeProperties' object has no attribute 'weekday_name'",
     "traceback": [
      "\u001b[1;31m---------------------------------------------------------------------------\u001b[0m",
      "\u001b[1;31mAttributeError\u001b[0m                            Traceback (most recent call last)",
      "\u001b[1;32m<ipython-input-57-99e2508d11be>\u001b[0m in \u001b[0;36m<module>\u001b[1;34m\u001b[0m\n\u001b[1;32m----> 1\u001b[1;33m \u001b[0mdf\u001b[0m\u001b[1;33m[\u001b[0m\u001b[1;34m'Date_Time'\u001b[0m\u001b[1;33m]\u001b[0m\u001b[1;33m.\u001b[0m\u001b[0mdt\u001b[0m\u001b[1;33m.\u001b[0m\u001b[0mweekday_name\u001b[0m\u001b[1;33m.\u001b[0m\u001b[0mhead\u001b[0m\u001b[1;33m(\u001b[0m\u001b[1;36m7\u001b[0m\u001b[1;33m)\u001b[0m\u001b[1;33m\u001b[0m\u001b[1;33m\u001b[0m\u001b[0m\n\u001b[0m",
      "\u001b[1;31mAttributeError\u001b[0m: 'DatetimeProperties' object has no attribute 'weekday_name'"
     ]
    }
   ],
   "source": [
    "df['Date_Time'].dt.weekday_name.head(7)"
   ]
  },
  {
   "cell_type": "code",
   "execution_count": 49,
   "metadata": {},
   "outputs": [],
   "source": [
    "# Extracting the month from the date"
   ]
  },
  {
   "cell_type": "code",
   "execution_count": 50,
   "metadata": {},
   "outputs": [
    {
     "output_type": "execute_result",
     "data": {
      "text/plain": "0    3\n1    3\n2    3\n3    3\n4    3\n5    3\n6    3\nName: Date_Time, dtype: int64"
     },
     "metadata": {},
     "execution_count": 50
    }
   ],
   "source": [
    "df['Date_Time'].dt.month.head(7)"
   ]
  },
  {
   "cell_type": "code",
   "execution_count": 51,
   "metadata": {},
   "outputs": [
    {
     "output_type": "execute_result",
     "data": {
      "text/plain": "0    False\n1    False\n2    False\n3    False\n4    False\n5    False\n6    False\nName: Date_Time, dtype: bool"
     },
     "metadata": {},
     "execution_count": 51
    }
   ],
   "source": [
    "df['Date_Time'].dt.is_month_end.head(7)"
   ]
  },
  {
   "cell_type": "code",
   "execution_count": 52,
   "metadata": {},
   "outputs": [],
   "source": [
    "# Put it all together"
   ]
  },
  {
   "cell_type": "code",
   "execution_count": 54,
   "metadata": {},
   "outputs": [
    {
     "output_type": "execute_result",
     "data": {
      "text/plain": "   year  month  day  hour  dayofyear  week  dayofweek  quarter\n0  2004      3   10    18         70    11          2        1\n1  2004      3   10    19         70    11          2        1\n2  2004      3   10    20         70    11          2        1\n3  2004      3   10    21         70    11          2        1\n4  2004      3   10    22         70    11          2        1",
      "text/html": "<div>\n<style scoped>\n    .dataframe tbody tr th:only-of-type {\n        vertical-align: middle;\n    }\n\n    .dataframe tbody tr th {\n        vertical-align: top;\n    }\n\n    .dataframe thead th {\n        text-align: right;\n    }\n</style>\n<table border=\"1\" class=\"dataframe\">\n  <thead>\n    <tr style=\"text-align: right;\">\n      <th></th>\n      <th>year</th>\n      <th>month</th>\n      <th>day</th>\n      <th>hour</th>\n      <th>dayofyear</th>\n      <th>week</th>\n      <th>dayofweek</th>\n      <th>quarter</th>\n    </tr>\n  </thead>\n  <tbody>\n    <tr>\n      <th>0</th>\n      <td>2004</td>\n      <td>3</td>\n      <td>10</td>\n      <td>18</td>\n      <td>70</td>\n      <td>11</td>\n      <td>2</td>\n      <td>1</td>\n    </tr>\n    <tr>\n      <th>1</th>\n      <td>2004</td>\n      <td>3</td>\n      <td>10</td>\n      <td>19</td>\n      <td>70</td>\n      <td>11</td>\n      <td>2</td>\n      <td>1</td>\n    </tr>\n    <tr>\n      <th>2</th>\n      <td>2004</td>\n      <td>3</td>\n      <td>10</td>\n      <td>20</td>\n      <td>70</td>\n      <td>11</td>\n      <td>2</td>\n      <td>1</td>\n    </tr>\n    <tr>\n      <th>3</th>\n      <td>2004</td>\n      <td>3</td>\n      <td>10</td>\n      <td>21</td>\n      <td>70</td>\n      <td>11</td>\n      <td>2</td>\n      <td>1</td>\n    </tr>\n    <tr>\n      <th>4</th>\n      <td>2004</td>\n      <td>3</td>\n      <td>10</td>\n      <td>22</td>\n      <td>70</td>\n      <td>11</td>\n      <td>2</td>\n      <td>1</td>\n    </tr>\n  </tbody>\n</table>\n</div>"
     },
     "metadata": {},
     "execution_count": 54
    }
   ],
   "source": [
    "new_df = pd.DataFrame({\"year\": df['Date_Time'].dt.year,\n",
    "              \"month\": df['Date_Time'].dt.month,\n",
    "              \"day\": df['Date_Time'].dt.day,\n",
    "              \"hour\": df['Date_Time'].dt.hour,\n",
    "              \"dayofyear\": df['Date_Time'].dt.dayofyear,\n",
    "              \"week\": df['Date_Time'].dt.week,\n",
    "              \"dayofweek\": df['Date_Time'].dt.dayofweek,\n",
    "              \"quarter\": df['Date_Time'].dt.quarter,\n",
    "             })\n",
    "new_df.head()"
   ]
  },
  {
   "cell_type": "code",
   "execution_count": 55,
   "metadata": {},
   "outputs": [
    {
     "output_type": "execute_result",
     "data": {
      "text/plain": "            Date_Time  NO2(GT)  year  month  day  hour  dayofyear  week  \\\n0 2004-03-10 18:00:00      166  2004      3   10    18         70    11   \n1 2004-03-10 19:00:00     1174  2004      3   10    19         70    11   \n2 2004-03-10 20:00:00      131  2004      3   10    20         70    11   \n3 2004-03-10 21:00:00      172  2004      3   10    21         70    11   \n4 2004-03-10 22:00:00      131  2004      3   10    22         70    11   \n\n   dayofweek  quarter  \n0          2        1  \n1          2        1  \n2          2        1  \n3          2        1  \n4          2        1  ",
      "text/html": "<div>\n<style scoped>\n    .dataframe tbody tr th:only-of-type {\n        vertical-align: middle;\n    }\n\n    .dataframe tbody tr th {\n        vertical-align: top;\n    }\n\n    .dataframe thead th {\n        text-align: right;\n    }\n</style>\n<table border=\"1\" class=\"dataframe\">\n  <thead>\n    <tr style=\"text-align: right;\">\n      <th></th>\n      <th>Date_Time</th>\n      <th>NO2(GT)</th>\n      <th>year</th>\n      <th>month</th>\n      <th>day</th>\n      <th>hour</th>\n      <th>dayofyear</th>\n      <th>week</th>\n      <th>dayofweek</th>\n      <th>quarter</th>\n    </tr>\n  </thead>\n  <tbody>\n    <tr>\n      <th>0</th>\n      <td>2004-03-10 18:00:00</td>\n      <td>166</td>\n      <td>2004</td>\n      <td>3</td>\n      <td>10</td>\n      <td>18</td>\n      <td>70</td>\n      <td>11</td>\n      <td>2</td>\n      <td>1</td>\n    </tr>\n    <tr>\n      <th>1</th>\n      <td>2004-03-10 19:00:00</td>\n      <td>1174</td>\n      <td>2004</td>\n      <td>3</td>\n      <td>10</td>\n      <td>19</td>\n      <td>70</td>\n      <td>11</td>\n      <td>2</td>\n      <td>1</td>\n    </tr>\n    <tr>\n      <th>2</th>\n      <td>2004-03-10 20:00:00</td>\n      <td>131</td>\n      <td>2004</td>\n      <td>3</td>\n      <td>10</td>\n      <td>20</td>\n      <td>70</td>\n      <td>11</td>\n      <td>2</td>\n      <td>1</td>\n    </tr>\n    <tr>\n      <th>3</th>\n      <td>2004-03-10 21:00:00</td>\n      <td>172</td>\n      <td>2004</td>\n      <td>3</td>\n      <td>10</td>\n      <td>21</td>\n      <td>70</td>\n      <td>11</td>\n      <td>2</td>\n      <td>1</td>\n    </tr>\n    <tr>\n      <th>4</th>\n      <td>2004-03-10 22:00:00</td>\n      <td>131</td>\n      <td>2004</td>\n      <td>3</td>\n      <td>10</td>\n      <td>22</td>\n      <td>70</td>\n      <td>11</td>\n      <td>2</td>\n      <td>1</td>\n    </tr>\n  </tbody>\n</table>\n</div>"
     },
     "metadata": {},
     "execution_count": 55
    }
   ],
   "source": [
    "complete_data = pd.concat([df, new_df], axis=1)\n",
    "complete_data.head()"
   ]
  },
  {
   "cell_type": "code",
   "execution_count": 58,
   "metadata": {},
   "outputs": [],
   "source": [
    "# is_weekday? (Create using the dayofweek numbers)"
   ]
  },
  {
   "cell_type": "code",
   "execution_count": 59,
   "metadata": {},
   "outputs": [],
   "source": [
    "complete_data['is_weekday']=0 \n",
    "\n",
    "for i in range(0, len(complete_data)):\n",
    "    if ((complete_data['dayofweek'][i] == 5) | (complete_data['dayofweek'][i] == 6)):\n",
    "        complete_data['is_weekday'][i] = 0\n",
    "    else: \n",
    "        complete_data['is_weekday'][i] = 1"
   ]
  },
  {
   "cell_type": "code",
   "execution_count": 60,
   "metadata": {},
   "outputs": [
    {
     "output_type": "execute_result",
     "data": {
      "text/plain": "   dayofweek  is_weekday\n0          2           1\n1          2           1\n2          2           1\n3          2           1\n4          2           1",
      "text/html": "<div>\n<style scoped>\n    .dataframe tbody tr th:only-of-type {\n        vertical-align: middle;\n    }\n\n    .dataframe tbody tr th {\n        vertical-align: top;\n    }\n\n    .dataframe thead th {\n        text-align: right;\n    }\n</style>\n<table border=\"1\" class=\"dataframe\">\n  <thead>\n    <tr style=\"text-align: right;\">\n      <th></th>\n      <th>dayofweek</th>\n      <th>is_weekday</th>\n    </tr>\n  </thead>\n  <tbody>\n    <tr>\n      <th>0</th>\n      <td>2</td>\n      <td>1</td>\n    </tr>\n    <tr>\n      <th>1</th>\n      <td>2</td>\n      <td>1</td>\n    </tr>\n    <tr>\n      <th>2</th>\n      <td>2</td>\n      <td>1</td>\n    </tr>\n    <tr>\n      <th>3</th>\n      <td>2</td>\n      <td>1</td>\n    </tr>\n    <tr>\n      <th>4</th>\n      <td>2</td>\n      <td>1</td>\n    </tr>\n  </tbody>\n</table>\n</div>"
     },
     "metadata": {},
     "execution_count": 60
    }
   ],
   "source": [
    "complete_data[['dayofweek', 'is_weekday']].head()"
   ]
  },
  {
   "cell_type": "code",
   "execution_count": 61,
   "metadata": {},
   "outputs": [],
   "source": [
    "# Difference Between Dates"
   ]
  },
  {
   "cell_type": "code",
   "execution_count": 63,
   "metadata": {},
   "outputs": [
    {
     "output_type": "execute_result",
     "data": {
      "text/plain": "           ID  Office_PIN Application_Receipt_Date  Applicant_City_PIN  \\\n0  FIN1000001      842001                4/16/2007            844120.0   \n1  FIN1000002      842001                4/16/2007            844111.0   \n2  FIN1000003      800001                4/16/2007            844101.0   \n3  FIN1000004      814112                4/16/2007            814112.0   \n4  FIN1000005      814112                4/16/2007            815351.0   \n\n  Applicant_Gender Applicant_BirthDate Applicant_Marital_Status  \\\n0                M          12/19/1971                        M   \n1                M           2/17/1983                        S   \n2                M           1/16/1966                        M   \n3                M            2/3/1988                        S   \n4                M            7/4/1985                        M   \n\n  Applicant_Occupation Applicant_Qualification Manager_DOJ  ...  \\\n0               Others                Graduate  11/10/2005  ...   \n1               Others               Class XII  11/10/2005  ...   \n2             Business               Class XII   5/27/2006  ...   \n3             Salaried               Class XII   8/21/2003  ...   \n4               Others               Class XII    5/8/2006  ...   \n\n  Manager_Status Manager_Gender  Manager_DoB Manager_Num_Application  \\\n0   Confirmation              M    2/17/1978                     2.0   \n1   Confirmation              M    2/17/1978                     2.0   \n2   Confirmation              M     3/3/1969                     0.0   \n3   Confirmation              F    8/14/1978                     0.0   \n4   Confirmation              M     2/7/1971                     2.0   \n\n  Manager_Num_Coded Manager_Business  Manager_Num_Products  Manager_Business2  \\\n0               1.0         335249.0                  28.0           335249.0   \n1               1.0         335249.0                  28.0           335249.0   \n2               0.0         357184.0                  24.0           357184.0   \n3               0.0         318356.0                  22.0           318356.0   \n4               1.0         230402.0                  17.0           230402.0   \n\n   Manager_Num_Products2  Business_Sourced  \n0                   28.0                 0  \n1                   28.0                 1  \n2                   24.0                 0  \n3                   22.0                 0  \n4                   17.0                 0  \n\n[5 rows x 23 columns]",
      "text/html": "<div>\n<style scoped>\n    .dataframe tbody tr th:only-of-type {\n        vertical-align: middle;\n    }\n\n    .dataframe tbody tr th {\n        vertical-align: top;\n    }\n\n    .dataframe thead th {\n        text-align: right;\n    }\n</style>\n<table border=\"1\" class=\"dataframe\">\n  <thead>\n    <tr style=\"text-align: right;\">\n      <th></th>\n      <th>ID</th>\n      <th>Office_PIN</th>\n      <th>Application_Receipt_Date</th>\n      <th>Applicant_City_PIN</th>\n      <th>Applicant_Gender</th>\n      <th>Applicant_BirthDate</th>\n      <th>Applicant_Marital_Status</th>\n      <th>Applicant_Occupation</th>\n      <th>Applicant_Qualification</th>\n      <th>Manager_DOJ</th>\n      <th>...</th>\n      <th>Manager_Status</th>\n      <th>Manager_Gender</th>\n      <th>Manager_DoB</th>\n      <th>Manager_Num_Application</th>\n      <th>Manager_Num_Coded</th>\n      <th>Manager_Business</th>\n      <th>Manager_Num_Products</th>\n      <th>Manager_Business2</th>\n      <th>Manager_Num_Products2</th>\n      <th>Business_Sourced</th>\n    </tr>\n  </thead>\n  <tbody>\n    <tr>\n      <th>0</th>\n      <td>FIN1000001</td>\n      <td>842001</td>\n      <td>4/16/2007</td>\n      <td>844120.0</td>\n      <td>M</td>\n      <td>12/19/1971</td>\n      <td>M</td>\n      <td>Others</td>\n      <td>Graduate</td>\n      <td>11/10/2005</td>\n      <td>...</td>\n      <td>Confirmation</td>\n      <td>M</td>\n      <td>2/17/1978</td>\n      <td>2.0</td>\n      <td>1.0</td>\n      <td>335249.0</td>\n      <td>28.0</td>\n      <td>335249.0</td>\n      <td>28.0</td>\n      <td>0</td>\n    </tr>\n    <tr>\n      <th>1</th>\n      <td>FIN1000002</td>\n      <td>842001</td>\n      <td>4/16/2007</td>\n      <td>844111.0</td>\n      <td>M</td>\n      <td>2/17/1983</td>\n      <td>S</td>\n      <td>Others</td>\n      <td>Class XII</td>\n      <td>11/10/2005</td>\n      <td>...</td>\n      <td>Confirmation</td>\n      <td>M</td>\n      <td>2/17/1978</td>\n      <td>2.0</td>\n      <td>1.0</td>\n      <td>335249.0</td>\n      <td>28.0</td>\n      <td>335249.0</td>\n      <td>28.0</td>\n      <td>1</td>\n    </tr>\n    <tr>\n      <th>2</th>\n      <td>FIN1000003</td>\n      <td>800001</td>\n      <td>4/16/2007</td>\n      <td>844101.0</td>\n      <td>M</td>\n      <td>1/16/1966</td>\n      <td>M</td>\n      <td>Business</td>\n      <td>Class XII</td>\n      <td>5/27/2006</td>\n      <td>...</td>\n      <td>Confirmation</td>\n      <td>M</td>\n      <td>3/3/1969</td>\n      <td>0.0</td>\n      <td>0.0</td>\n      <td>357184.0</td>\n      <td>24.0</td>\n      <td>357184.0</td>\n      <td>24.0</td>\n      <td>0</td>\n    </tr>\n    <tr>\n      <th>3</th>\n      <td>FIN1000004</td>\n      <td>814112</td>\n      <td>4/16/2007</td>\n      <td>814112.0</td>\n      <td>M</td>\n      <td>2/3/1988</td>\n      <td>S</td>\n      <td>Salaried</td>\n      <td>Class XII</td>\n      <td>8/21/2003</td>\n      <td>...</td>\n      <td>Confirmation</td>\n      <td>F</td>\n      <td>8/14/1978</td>\n      <td>0.0</td>\n      <td>0.0</td>\n      <td>318356.0</td>\n      <td>22.0</td>\n      <td>318356.0</td>\n      <td>22.0</td>\n      <td>0</td>\n    </tr>\n    <tr>\n      <th>4</th>\n      <td>FIN1000005</td>\n      <td>814112</td>\n      <td>4/16/2007</td>\n      <td>815351.0</td>\n      <td>M</td>\n      <td>7/4/1985</td>\n      <td>M</td>\n      <td>Others</td>\n      <td>Class XII</td>\n      <td>5/8/2006</td>\n      <td>...</td>\n      <td>Confirmation</td>\n      <td>M</td>\n      <td>2/7/1971</td>\n      <td>2.0</td>\n      <td>1.0</td>\n      <td>230402.0</td>\n      <td>17.0</td>\n      <td>230402.0</td>\n      <td>17.0</td>\n      <td>0</td>\n    </tr>\n  </tbody>\n</table>\n<p>5 rows × 23 columns</p>\n</div>"
     },
     "metadata": {},
     "execution_count": 63
    }
   ],
   "source": [
    "agent = pd.read_csv('agent_classification.csv')\n",
    "agent.head()"
   ]
  },
  {
   "cell_type": "code",
   "execution_count": 64,
   "metadata": {},
   "outputs": [
    {
     "output_type": "execute_result",
     "data": {
      "text/plain": "  Application_Receipt_Date Applicant_BirthDate\n0                4/16/2007          12/19/1971\n1                4/16/2007           2/17/1983\n2                4/16/2007           1/16/1966\n3                4/16/2007            2/3/1988\n4                4/16/2007            7/4/1985",
      "text/html": "<div>\n<style scoped>\n    .dataframe tbody tr th:only-of-type {\n        vertical-align: middle;\n    }\n\n    .dataframe tbody tr th {\n        vertical-align: top;\n    }\n\n    .dataframe thead th {\n        text-align: right;\n    }\n</style>\n<table border=\"1\" class=\"dataframe\">\n  <thead>\n    <tr style=\"text-align: right;\">\n      <th></th>\n      <th>Application_Receipt_Date</th>\n      <th>Applicant_BirthDate</th>\n    </tr>\n  </thead>\n  <tbody>\n    <tr>\n      <th>0</th>\n      <td>4/16/2007</td>\n      <td>12/19/1971</td>\n    </tr>\n    <tr>\n      <th>1</th>\n      <td>4/16/2007</td>\n      <td>2/17/1983</td>\n    </tr>\n    <tr>\n      <th>2</th>\n      <td>4/16/2007</td>\n      <td>1/16/1966</td>\n    </tr>\n    <tr>\n      <th>3</th>\n      <td>4/16/2007</td>\n      <td>2/3/1988</td>\n    </tr>\n    <tr>\n      <th>4</th>\n      <td>4/16/2007</td>\n      <td>7/4/1985</td>\n    </tr>\n  </tbody>\n</table>\n</div>"
     },
     "metadata": {},
     "execution_count": 64
    }
   ],
   "source": [
    "agent[['Application_Receipt_Date','Applicant_BirthDate']].head()"
   ]
  },
  {
   "cell_type": "code",
   "execution_count": 65,
   "metadata": {},
   "outputs": [],
   "source": [
    "agent['Application_Receipt_Date'] = pd.to_datetime(agent['Application_Receipt_Date'], format='%m/%d/%Y')\n",
    "agent['Applicant_BirthDate'] = pd.to_datetime(agent['Applicant_BirthDate'], format='%m/%d/%Y')"
   ]
  },
  {
   "cell_type": "code",
   "execution_count": 66,
   "metadata": {},
   "outputs": [
    {
     "output_type": "execute_result",
     "data": {
      "text/plain": "12902"
     },
     "metadata": {},
     "execution_count": 66
    }
   ],
   "source": [
    "(agent['Application_Receipt_Date'][0] - agent['Applicant_BirthDate'][0]).days"
   ]
  },
  {
   "cell_type": "code",
   "execution_count": 67,
   "metadata": {},
   "outputs": [],
   "source": [
    "agent['Applicant_age'] = agent.apply(lambda x: (x['Application_Receipt_Date'] - x['Applicant_BirthDate']).days, axis=1)"
   ]
  },
  {
   "cell_type": "code",
   "execution_count": null,
   "metadata": {},
   "outputs": [],
   "source": []
  }
 ],
 "metadata": {
  "language_info": {
   "codemirror_mode": {
    "name": "ipython",
    "version": 3
   },
   "file_extension": ".py",
   "mimetype": "text/x-python",
   "name": "python",
   "nbconvert_exporter": "python",
   "pygments_lexer": "ipython3",
   "version": "3.7.4-final"
  },
  "orig_nbformat": 2,
  "kernelspec": {
   "name": "python37432bit0b418af721b34d68a54d4866810f67c5",
   "display_name": "Python 3.7.4 32-bit"
  }
 },
 "nbformat": 4,
 "nbformat_minor": 2
}