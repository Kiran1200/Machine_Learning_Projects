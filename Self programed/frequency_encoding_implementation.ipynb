{
 "cells": [
  {
   "cell_type": "code",
   "execution_count": 23,
   "metadata": {},
   "outputs": [],
   "source": [
    "import pandas as pd"
   ]
  },
  {
   "cell_type": "code",
   "execution_count": 24,
   "metadata": {},
   "outputs": [
    {
     "output_type": "execute_result",
     "data": {
      "text/plain": "  Item_Identifier  Item_Weight Item_Fat_Content  Item_Visibility  \\\n0           FDA15         9.30          Low Fat         0.016047   \n1           DRC01         5.92          Regular         0.019278   \n2           FDN15        17.50          Low Fat         0.016760   \n3           FDX07        19.20          Regular         0.000000   \n4           NCD19         8.93          Low Fat         0.000000   \n\n               Item_Type  Item_MRP Outlet_Identifier  \\\n0                  Dairy  249.8092            OUT049   \n1            Soft Drinks   48.2692            OUT018   \n2                   Meat  141.6180            OUT049   \n3  Fruits and Vegetables  182.0950            OUT010   \n4              Household   53.8614            OUT013   \n\n   Outlet_Establishment_Year Outlet_Size Outlet_Location_Type  \\\n0                       1999      Medium               Tier 1   \n1                       2009      Medium               Tier 3   \n2                       1999      Medium               Tier 1   \n3                       1998         NaN               Tier 3   \n4                       1987        High               Tier 3   \n\n         Outlet_Type  Item_Outlet_Sales  \n0  Supermarket Type1          3735.1380  \n1  Supermarket Type2           443.4228  \n2  Supermarket Type1          2097.2700  \n3      Grocery Store           732.3800  \n4  Supermarket Type1           994.7052  ",
      "text/html": "<div>\n<style scoped>\n    .dataframe tbody tr th:only-of-type {\n        vertical-align: middle;\n    }\n\n    .dataframe tbody tr th {\n        vertical-align: top;\n    }\n\n    .dataframe thead th {\n        text-align: right;\n    }\n</style>\n<table border=\"1\" class=\"dataframe\">\n  <thead>\n    <tr style=\"text-align: right;\">\n      <th></th>\n      <th>Item_Identifier</th>\n      <th>Item_Weight</th>\n      <th>Item_Fat_Content</th>\n      <th>Item_Visibility</th>\n      <th>Item_Type</th>\n      <th>Item_MRP</th>\n      <th>Outlet_Identifier</th>\n      <th>Outlet_Establishment_Year</th>\n      <th>Outlet_Size</th>\n      <th>Outlet_Location_Type</th>\n      <th>Outlet_Type</th>\n      <th>Item_Outlet_Sales</th>\n    </tr>\n  </thead>\n  <tbody>\n    <tr>\n      <th>0</th>\n      <td>FDA15</td>\n      <td>9.30</td>\n      <td>Low Fat</td>\n      <td>0.016047</td>\n      <td>Dairy</td>\n      <td>249.8092</td>\n      <td>OUT049</td>\n      <td>1999</td>\n      <td>Medium</td>\n      <td>Tier 1</td>\n      <td>Supermarket Type1</td>\n      <td>3735.1380</td>\n    </tr>\n    <tr>\n      <th>1</th>\n      <td>DRC01</td>\n      <td>5.92</td>\n      <td>Regular</td>\n      <td>0.019278</td>\n      <td>Soft Drinks</td>\n      <td>48.2692</td>\n      <td>OUT018</td>\n      <td>2009</td>\n      <td>Medium</td>\n      <td>Tier 3</td>\n      <td>Supermarket Type2</td>\n      <td>443.4228</td>\n    </tr>\n    <tr>\n      <th>2</th>\n      <td>FDN15</td>\n      <td>17.50</td>\n      <td>Low Fat</td>\n      <td>0.016760</td>\n      <td>Meat</td>\n      <td>141.6180</td>\n      <td>OUT049</td>\n      <td>1999</td>\n      <td>Medium</td>\n      <td>Tier 1</td>\n      <td>Supermarket Type1</td>\n      <td>2097.2700</td>\n    </tr>\n    <tr>\n      <th>3</th>\n      <td>FDX07</td>\n      <td>19.20</td>\n      <td>Regular</td>\n      <td>0.000000</td>\n      <td>Fruits and Vegetables</td>\n      <td>182.0950</td>\n      <td>OUT010</td>\n      <td>1998</td>\n      <td>NaN</td>\n      <td>Tier 3</td>\n      <td>Grocery Store</td>\n      <td>732.3800</td>\n    </tr>\n    <tr>\n      <th>4</th>\n      <td>NCD19</td>\n      <td>8.93</td>\n      <td>Low Fat</td>\n      <td>0.000000</td>\n      <td>Household</td>\n      <td>53.8614</td>\n      <td>OUT013</td>\n      <td>1987</td>\n      <td>High</td>\n      <td>Tier 3</td>\n      <td>Supermarket Type1</td>\n      <td>994.7052</td>\n    </tr>\n  </tbody>\n</table>\n</div>"
     },
     "metadata": {},
     "execution_count": 24
    }
   ],
   "source": [
    "bigmart = pd.read_csv('train_bm.csv')\n",
    "bigmart.head()"
   ]
  },
  {
   "cell_type": "code",
   "execution_count": 25,
   "metadata": {},
   "outputs": [
    {
     "output_type": "execute_result",
     "data": {
      "text/plain": "Fruits and Vegetables    1232\nSnack Foods              1200\nHousehold                 910\nFrozen Foods              856\nDairy                     682\nCanned                    649\nBaking Goods              648\nHealth and Hygiene        520\nSoft Drinks               445\nMeat                      425\nBreads                    251\nHard Drinks               214\nOthers                    169\nStarchy Foods             148\nBreakfast                 110\nSeafood                    64\nName: Item_Type, dtype: int64"
     },
     "metadata": {},
     "execution_count": 25
    }
   ],
   "source": [
    "bigmart['Item_Type'].value_counts()"
   ]
  },
  {
   "cell_type": "code",
   "execution_count": 26,
   "metadata": {},
   "outputs": [],
   "source": [
    "#Frequency Encoding"
   ]
  },
  {
   "cell_type": "code",
   "execution_count": 27,
   "metadata": {},
   "outputs": [
    {
     "output_type": "execute_result",
     "data": {
      "text/plain": "Fruits and Vegetables    1232\nSnack Foods              1200\nHousehold                 910\nFrozen Foods              856\nDairy                     682\nName: Item_Type, dtype: int64"
     },
     "metadata": {},
     "execution_count": 27
    }
   ],
   "source": [
    "temp = bigmart['Item_Type'].value_counts()\n",
    "temp.head()"
   ]
  },
  {
   "cell_type": "code",
   "execution_count": 28,
   "metadata": {},
   "outputs": [
    {
     "output_type": "execute_result",
     "data": {
      "text/plain": "  Item_Identifier              Item_Type  Item_type_count\n0           FDA15                  Dairy              682\n1           DRC01            Soft Drinks              445\n2           FDN15                   Meat              425\n3           FDX07  Fruits and Vegetables             1232\n4           NCD19              Household              910",
      "text/html": "<div>\n<style scoped>\n    .dataframe tbody tr th:only-of-type {\n        vertical-align: middle;\n    }\n\n    .dataframe tbody tr th {\n        vertical-align: top;\n    }\n\n    .dataframe thead th {\n        text-align: right;\n    }\n</style>\n<table border=\"1\" class=\"dataframe\">\n  <thead>\n    <tr style=\"text-align: right;\">\n      <th></th>\n      <th>Item_Identifier</th>\n      <th>Item_Type</th>\n      <th>Item_type_count</th>\n    </tr>\n  </thead>\n  <tbody>\n    <tr>\n      <th>0</th>\n      <td>FDA15</td>\n      <td>Dairy</td>\n      <td>682</td>\n    </tr>\n    <tr>\n      <th>1</th>\n      <td>DRC01</td>\n      <td>Soft Drinks</td>\n      <td>445</td>\n    </tr>\n    <tr>\n      <th>2</th>\n      <td>FDN15</td>\n      <td>Meat</td>\n      <td>425</td>\n    </tr>\n    <tr>\n      <th>3</th>\n      <td>FDX07</td>\n      <td>Fruits and Vegetables</td>\n      <td>1232</td>\n    </tr>\n    <tr>\n      <th>4</th>\n      <td>NCD19</td>\n      <td>Household</td>\n      <td>910</td>\n    </tr>\n  </tbody>\n</table>\n</div>"
     },
     "metadata": {},
     "execution_count": 28
    }
   ],
   "source": [
    "bigmart['Item_type_count'] = bigmart['Item_Type'].apply(lambda x: temp[x])\n",
    "bigmart[['Item_Identifier', 'Item_Type', 'Item_type_count']].head()"
   ]
  },
  {
   "cell_type": "code",
   "execution_count": 29,
   "metadata": {},
   "outputs": [],
   "source": [
    "# Mean Encoding (using Target Variable)"
   ]
  },
  {
   "cell_type": "code",
   "execution_count": 30,
   "metadata": {},
   "outputs": [
    {
     "output_type": "execute_result",
     "data": {
      "text/plain": "               Item_Type  Item_Outlet_Sales\n0                  Dairy          3735.1380\n1            Soft Drinks           443.4228\n2                   Meat          2097.2700\n3  Fruits and Vegetables           732.3800\n4              Household           994.7052",
      "text/html": "<div>\n<style scoped>\n    .dataframe tbody tr th:only-of-type {\n        vertical-align: middle;\n    }\n\n    .dataframe tbody tr th {\n        vertical-align: top;\n    }\n\n    .dataframe thead th {\n        text-align: right;\n    }\n</style>\n<table border=\"1\" class=\"dataframe\">\n  <thead>\n    <tr style=\"text-align: right;\">\n      <th></th>\n      <th>Item_Type</th>\n      <th>Item_Outlet_Sales</th>\n    </tr>\n  </thead>\n  <tbody>\n    <tr>\n      <th>0</th>\n      <td>Dairy</td>\n      <td>3735.1380</td>\n    </tr>\n    <tr>\n      <th>1</th>\n      <td>Soft Drinks</td>\n      <td>443.4228</td>\n    </tr>\n    <tr>\n      <th>2</th>\n      <td>Meat</td>\n      <td>2097.2700</td>\n    </tr>\n    <tr>\n      <th>3</th>\n      <td>Fruits and Vegetables</td>\n      <td>732.3800</td>\n    </tr>\n    <tr>\n      <th>4</th>\n      <td>Household</td>\n      <td>994.7052</td>\n    </tr>\n  </tbody>\n</table>\n</div>"
     },
     "metadata": {},
     "execution_count": 30
    }
   ],
   "source": [
    "bigmart[['Item_Type', 'Item_Outlet_Sales']].head()"
   ]
  },
  {
   "cell_type": "code",
   "execution_count": 31,
   "metadata": {},
   "outputs": [
    {
     "output_type": "execute_result",
     "data": {
      "text/plain": "Item_Type\nBaking Goods             1952.971207\nBreads                   2204.132226\nBreakfast                2111.808651\nCanned                   2225.194904\nDairy                    2232.542597\nFrozen Foods             2132.867744\nFruits and Vegetables    2289.009592\nHard Drinks              2139.221622\nHealth and Hygiene       2010.000265\nHousehold                2258.784300\nMeat                     2158.977911\nOthers                   1926.139702\nSeafood                  2326.065928\nSnack Foods              2277.321739\nSoft Drinks              2006.511735\nStarchy Foods            2374.332773\nName: Item_Outlet_Sales, dtype: float64"
     },
     "metadata": {},
     "execution_count": 31
    }
   ],
   "source": [
    "bigmart.groupby('Item_Type')['Item_Outlet_Sales'].mean()"
   ]
  },
  {
   "cell_type": "code",
   "execution_count": null,
   "metadata": {},
   "outputs": [],
   "source": []
  }
 ],
 "metadata": {
  "language_info": {
   "codemirror_mode": {
    "name": "ipython",
    "version": 3
   },
   "file_extension": ".py",
   "mimetype": "text/x-python",
   "name": "python",
   "nbconvert_exporter": "python",
   "pygments_lexer": "ipython3",
   "version": "3.7.4-final"
  },
  "orig_nbformat": 2,
  "kernelspec": {
   "name": "python37432bit0b418af721b34d68a54d4866810f67c5",
   "display_name": "Python 3.7.4 32-bit"
  }
 },
 "nbformat": 4,
 "nbformat_minor": 2
}