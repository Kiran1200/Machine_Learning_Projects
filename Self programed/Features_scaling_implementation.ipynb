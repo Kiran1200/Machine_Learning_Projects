{
 "cells": [
  {
   "cell_type": "code",
   "execution_count": 21,
   "metadata": {},
   "outputs": [],
   "source": [
    "import pandas as pd\n",
    "import numpy as np"
   ]
  },
  {
   "cell_type": "code",
   "execution_count": 22,
   "metadata": {},
   "outputs": [],
   "source": [
    "bigmart = pd.read_csv('train_bm.csv')"
   ]
  },
  {
   "cell_type": "code",
   "execution_count": 23,
   "metadata": {},
   "outputs": [
    {
     "output_type": "execute_result",
     "data": {
      "text/plain": "   Item_Visibility  Item_MRP\n0         0.016047  249.8092\n1         0.019278   48.2692\n2         0.016760  141.6180\n3         0.000000  182.0950\n4         0.000000   53.8614",
      "text/html": "<div>\n<style scoped>\n    .dataframe tbody tr th:only-of-type {\n        vertical-align: middle;\n    }\n\n    .dataframe tbody tr th {\n        vertical-align: top;\n    }\n\n    .dataframe thead th {\n        text-align: right;\n    }\n</style>\n<table border=\"1\" class=\"dataframe\">\n  <thead>\n    <tr style=\"text-align: right;\">\n      <th></th>\n      <th>Item_Visibility</th>\n      <th>Item_MRP</th>\n    </tr>\n  </thead>\n  <tbody>\n    <tr>\n      <th>0</th>\n      <td>0.016047</td>\n      <td>249.8092</td>\n    </tr>\n    <tr>\n      <th>1</th>\n      <td>0.019278</td>\n      <td>48.2692</td>\n    </tr>\n    <tr>\n      <th>2</th>\n      <td>0.016760</td>\n      <td>141.6180</td>\n    </tr>\n    <tr>\n      <th>3</th>\n      <td>0.000000</td>\n      <td>182.0950</td>\n    </tr>\n    <tr>\n      <th>4</th>\n      <td>0.000000</td>\n      <td>53.8614</td>\n    </tr>\n  </tbody>\n</table>\n</div>"
     },
     "metadata": {},
     "execution_count": 23
    }
   ],
   "source": [
    "data = bigmart[['Item_Visibility', 'Item_MRP']]\n",
    "data.head()"
   ]
  },
  {
   "cell_type": "code",
   "execution_count": 24,
   "metadata": {},
   "outputs": [],
   "source": [
    "# Min Max Scaler"
   ]
  },
  {
   "cell_type": "code",
   "execution_count": 25,
   "metadata": {},
   "outputs": [],
   "source": [
    "from sklearn.preprocessing import MinMaxScaler"
   ]
  },
  {
   "cell_type": "code",
   "execution_count": 26,
   "metadata": {},
   "outputs": [
    {
     "output_type": "execute_result",
     "data": {
      "text/plain": "   Item_Visibility  Item_MRP\n0         0.048866  0.927507\n1         0.058705  0.072068\n2         0.051037  0.468288\n3         0.000000  0.640093\n4         0.000000  0.095805",
      "text/html": "<div>\n<style scoped>\n    .dataframe tbody tr th:only-of-type {\n        vertical-align: middle;\n    }\n\n    .dataframe tbody tr th {\n        vertical-align: top;\n    }\n\n    .dataframe thead th {\n        text-align: right;\n    }\n</style>\n<table border=\"1\" class=\"dataframe\">\n  <thead>\n    <tr style=\"text-align: right;\">\n      <th></th>\n      <th>Item_Visibility</th>\n      <th>Item_MRP</th>\n    </tr>\n  </thead>\n  <tbody>\n    <tr>\n      <th>0</th>\n      <td>0.048866</td>\n      <td>0.927507</td>\n    </tr>\n    <tr>\n      <th>1</th>\n      <td>0.058705</td>\n      <td>0.072068</td>\n    </tr>\n    <tr>\n      <th>2</th>\n      <td>0.051037</td>\n      <td>0.468288</td>\n    </tr>\n    <tr>\n      <th>3</th>\n      <td>0.000000</td>\n      <td>0.640093</td>\n    </tr>\n    <tr>\n      <th>4</th>\n      <td>0.000000</td>\n      <td>0.095805</td>\n    </tr>\n  </tbody>\n</table>\n</div>"
     },
     "metadata": {},
     "execution_count": 26
    }
   ],
   "source": [
    "scaler = MinMaxScaler()\n",
    "scaled_data = scaler.fit_transform(data)\n",
    "scaled_data = pd.DataFrame(scaled_data, columns=['Item_Visibility', 'Item_MRP'])\n",
    "scaled_data.head()"
   ]
  },
  {
   "cell_type": "code",
   "execution_count": 27,
   "metadata": {},
   "outputs": [
    {
     "output_type": "execute_result",
     "data": {
      "text/plain": "       Item_Visibility     Item_MRP\ncount      8523.000000  8523.000000\nmean          0.201382     0.465635\nstd           0.157123     0.264327\nmin           0.000000     0.000000\n25%           0.082187     0.265437\n50%           0.164228     0.474209\n75%           0.288026     0.655156\nmax           1.000000     1.000000",
      "text/html": "<div>\n<style scoped>\n    .dataframe tbody tr th:only-of-type {\n        vertical-align: middle;\n    }\n\n    .dataframe tbody tr th {\n        vertical-align: top;\n    }\n\n    .dataframe thead th {\n        text-align: right;\n    }\n</style>\n<table border=\"1\" class=\"dataframe\">\n  <thead>\n    <tr style=\"text-align: right;\">\n      <th></th>\n      <th>Item_Visibility</th>\n      <th>Item_MRP</th>\n    </tr>\n  </thead>\n  <tbody>\n    <tr>\n      <th>count</th>\n      <td>8523.000000</td>\n      <td>8523.000000</td>\n    </tr>\n    <tr>\n      <th>mean</th>\n      <td>0.201382</td>\n      <td>0.465635</td>\n    </tr>\n    <tr>\n      <th>std</th>\n      <td>0.157123</td>\n      <td>0.264327</td>\n    </tr>\n    <tr>\n      <th>min</th>\n      <td>0.000000</td>\n      <td>0.000000</td>\n    </tr>\n    <tr>\n      <th>25%</th>\n      <td>0.082187</td>\n      <td>0.265437</td>\n    </tr>\n    <tr>\n      <th>50%</th>\n      <td>0.164228</td>\n      <td>0.474209</td>\n    </tr>\n    <tr>\n      <th>75%</th>\n      <td>0.288026</td>\n      <td>0.655156</td>\n    </tr>\n    <tr>\n      <th>max</th>\n      <td>1.000000</td>\n      <td>1.000000</td>\n    </tr>\n  </tbody>\n</table>\n</div>"
     },
     "metadata": {},
     "execution_count": 27
    }
   ],
   "source": [
    "scaled_data.describe()"
   ]
  },
  {
   "cell_type": "code",
   "execution_count": 28,
   "metadata": {},
   "outputs": [],
   "source": [
    "# Standard Scaler"
   ]
  },
  {
   "cell_type": "code",
   "execution_count": 29,
   "metadata": {},
   "outputs": [],
   "source": [
    "from sklearn.preprocessing import StandardScaler"
   ]
  },
  {
   "cell_type": "code",
   "execution_count": 30,
   "metadata": {},
   "outputs": [
    {
     "output_type": "execute_result",
     "data": {
      "text/plain": "   Item_Visibility  Item_MRP\n0        -0.970732  1.747454\n1        -0.908111 -1.489023\n2        -0.956917  0.010040\n3        -1.281758  0.660050\n4        -1.281758 -1.399220",
      "text/html": "<div>\n<style scoped>\n    .dataframe tbody tr th:only-of-type {\n        vertical-align: middle;\n    }\n\n    .dataframe tbody tr th {\n        vertical-align: top;\n    }\n\n    .dataframe thead th {\n        text-align: right;\n    }\n</style>\n<table border=\"1\" class=\"dataframe\">\n  <thead>\n    <tr style=\"text-align: right;\">\n      <th></th>\n      <th>Item_Visibility</th>\n      <th>Item_MRP</th>\n    </tr>\n  </thead>\n  <tbody>\n    <tr>\n      <th>0</th>\n      <td>-0.970732</td>\n      <td>1.747454</td>\n    </tr>\n    <tr>\n      <th>1</th>\n      <td>-0.908111</td>\n      <td>-1.489023</td>\n    </tr>\n    <tr>\n      <th>2</th>\n      <td>-0.956917</td>\n      <td>0.010040</td>\n    </tr>\n    <tr>\n      <th>3</th>\n      <td>-1.281758</td>\n      <td>0.660050</td>\n    </tr>\n    <tr>\n      <th>4</th>\n      <td>-1.281758</td>\n      <td>-1.399220</td>\n    </tr>\n  </tbody>\n</table>\n</div>"
     },
     "metadata": {},
     "execution_count": 30
    }
   ],
   "source": [
    "scaler = StandardScaler()\n",
    "scaled_data = scaler.fit_transform(data)\n",
    "scaled_data = pd.DataFrame(scaled_data, columns=['Item_Visibility', 'Item_MRP'])\n",
    "scaled_data.head()"
   ]
  },
  {
   "cell_type": "code",
   "execution_count": 31,
   "metadata": {},
   "outputs": [
    {
     "output_type": "execute_result",
     "data": {
      "text/plain": "       Item_Visibility      Item_MRP\ncount     8.523000e+03  8.523000e+03\nmean      1.529797e-16 -1.638175e-16\nstd       1.000059e+00  1.000059e+00\nmin      -1.281758e+00 -1.761688e+00\n25%      -7.586531e-01 -7.574307e-01\n50%      -2.364792e-01  3.243893e-02\n75%       5.514755e-01  7.170372e-01\nmax       5.083050e+00  2.021724e+00",
      "text/html": "<div>\n<style scoped>\n    .dataframe tbody tr th:only-of-type {\n        vertical-align: middle;\n    }\n\n    .dataframe tbody tr th {\n        vertical-align: top;\n    }\n\n    .dataframe thead th {\n        text-align: right;\n    }\n</style>\n<table border=\"1\" class=\"dataframe\">\n  <thead>\n    <tr style=\"text-align: right;\">\n      <th></th>\n      <th>Item_Visibility</th>\n      <th>Item_MRP</th>\n    </tr>\n  </thead>\n  <tbody>\n    <tr>\n      <th>count</th>\n      <td>8.523000e+03</td>\n      <td>8.523000e+03</td>\n    </tr>\n    <tr>\n      <th>mean</th>\n      <td>1.529797e-16</td>\n      <td>-1.638175e-16</td>\n    </tr>\n    <tr>\n      <th>std</th>\n      <td>1.000059e+00</td>\n      <td>1.000059e+00</td>\n    </tr>\n    <tr>\n      <th>min</th>\n      <td>-1.281758e+00</td>\n      <td>-1.761688e+00</td>\n    </tr>\n    <tr>\n      <th>25%</th>\n      <td>-7.586531e-01</td>\n      <td>-7.574307e-01</td>\n    </tr>\n    <tr>\n      <th>50%</th>\n      <td>-2.364792e-01</td>\n      <td>3.243893e-02</td>\n    </tr>\n    <tr>\n      <th>75%</th>\n      <td>5.514755e-01</td>\n      <td>7.170372e-01</td>\n    </tr>\n    <tr>\n      <th>max</th>\n      <td>5.083050e+00</td>\n      <td>2.021724e+00</td>\n    </tr>\n  </tbody>\n</table>\n</div>"
     },
     "metadata": {},
     "execution_count": 31
    }
   ],
   "source": [
    "scaled_data.describe()"
   ]
  },
  {
   "cell_type": "code",
   "execution_count": null,
   "metadata": {},
   "outputs": [],
   "source": []
  }
 ],
 "metadata": {
  "language_info": {
   "codemirror_mode": {
    "name": "ipython",
    "version": 3
   },
   "file_extension": ".py",
   "mimetype": "text/x-python",
   "name": "python",
   "nbconvert_exporter": "python",
   "pygments_lexer": "ipython3",
   "version": "3.7.4-final"
  },
  "orig_nbformat": 2,
  "kernelspec": {
   "name": "python37432bit0b418af721b34d68a54d4866810f67c5",
   "display_name": "Python 3.7.4 32-bit"
  }
 },
 "nbformat": 4,
 "nbformat_minor": 2
}