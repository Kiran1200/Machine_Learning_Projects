{
 "cells": [
  {
   "cell_type": "markdown",
   "metadata": {},
   "source": [
    "## Loading the Dataset"
   ]
  },
  {
   "cell_type": "code",
   "execution_count": 1,
   "metadata": {
    "collapsed": true
   },
   "outputs": [],
   "source": [
    "import pandas as pd\n",
    "import numpy as np\n",
    "\n",
    "import matplotlib.pyplot as plt\n",
    "%matplotlib inline"
   ]
  },
  {
   "cell_type": "code",
   "execution_count": 2,
   "metadata": {},
   "outputs": [
    {
     "output_type": "execute_result",
     "data": {
      "text/plain": "(8844, 19)"
     },
     "metadata": {},
     "execution_count": 2
    }
   ],
   "source": [
    "df = pd.read_csv('Train_pjb2QcD.csv')\n",
    "df.shape"
   ]
  },
  {
   "cell_type": "code",
   "execution_count": 3,
   "metadata": {},
   "outputs": [
    {
     "output_type": "execute_result",
     "data": {
      "text/plain": "           ID  Office_PIN  Applicant_City_PIN Applicant_Gender  \\\n0  FIN1000001      842001              844120                M   \n1  FIN1000002      842001              844111                M   \n2  FIN1000003      800001              844101                M   \n3  FIN1000004      814112              814112                M   \n4  FIN1000005      814112              815351                M   \n\n  Applicant_Marital_Status Applicant_Occupation Applicant_Qualification  \\\n0                        M               Others                Graduate   \n1                        S               Others               Class XII   \n2                        M             Business               Class XII   \n3                        S             Salaried               Class XII   \n4                        M               Others               Class XII   \n\n  Manager_Joining_Designation Manager_Current_Designation  Manager_Grade  \\\n0                     Level 1                     Level 2            3.0   \n1                     Level 1                     Level 2            3.0   \n2                     Level 1                     Level 1            2.0   \n3                     Level 1                     Level 3            4.0   \n4                     Level 1                     Level 1            2.0   \n\n  Manager_Status Manager_Gender  Manager_Num_Application  Manager_Num_Coded  \\\n0   Confirmation              M                      2.0                1.0   \n1   Confirmation              M                      2.0                1.0   \n2   Confirmation              M                      0.0                0.0   \n3   Confirmation              F                      0.0                0.0   \n4   Confirmation              M                      2.0                1.0   \n\n   Manager_Business  Manager_Num_Products  Manager_Business2  \\\n0          335249.0                  28.0           335249.0   \n1          335249.0                  28.0           335249.0   \n2          357184.0                  24.0           357184.0   \n3          318356.0                  22.0           318356.0   \n4          230402.0                  17.0           230402.0   \n\n   Manager_Num_Products2  Business_Sourced  \n0                   28.0                 0  \n1                   28.0                 1  \n2                   24.0                 0  \n3                   22.0                 0  \n4                   17.0                 0  ",
      "text/html": "<div>\n<style scoped>\n    .dataframe tbody tr th:only-of-type {\n        vertical-align: middle;\n    }\n\n    .dataframe tbody tr th {\n        vertical-align: top;\n    }\n\n    .dataframe thead th {\n        text-align: right;\n    }\n</style>\n<table border=\"1\" class=\"dataframe\">\n  <thead>\n    <tr style=\"text-align: right;\">\n      <th></th>\n      <th>ID</th>\n      <th>Office_PIN</th>\n      <th>Applicant_City_PIN</th>\n      <th>Applicant_Gender</th>\n      <th>Applicant_Marital_Status</th>\n      <th>Applicant_Occupation</th>\n      <th>Applicant_Qualification</th>\n      <th>Manager_Joining_Designation</th>\n      <th>Manager_Current_Designation</th>\n      <th>Manager_Grade</th>\n      <th>Manager_Status</th>\n      <th>Manager_Gender</th>\n      <th>Manager_Num_Application</th>\n      <th>Manager_Num_Coded</th>\n      <th>Manager_Business</th>\n      <th>Manager_Num_Products</th>\n      <th>Manager_Business2</th>\n      <th>Manager_Num_Products2</th>\n      <th>Business_Sourced</th>\n    </tr>\n  </thead>\n  <tbody>\n    <tr>\n      <th>0</th>\n      <td>FIN1000001</td>\n      <td>842001</td>\n      <td>844120</td>\n      <td>M</td>\n      <td>M</td>\n      <td>Others</td>\n      <td>Graduate</td>\n      <td>Level 1</td>\n      <td>Level 2</td>\n      <td>3.0</td>\n      <td>Confirmation</td>\n      <td>M</td>\n      <td>2.0</td>\n      <td>1.0</td>\n      <td>335249.0</td>\n      <td>28.0</td>\n      <td>335249.0</td>\n      <td>28.0</td>\n      <td>0</td>\n    </tr>\n    <tr>\n      <th>1</th>\n      <td>FIN1000002</td>\n      <td>842001</td>\n      <td>844111</td>\n      <td>M</td>\n      <td>S</td>\n      <td>Others</td>\n      <td>Class XII</td>\n      <td>Level 1</td>\n      <td>Level 2</td>\n      <td>3.0</td>\n      <td>Confirmation</td>\n      <td>M</td>\n      <td>2.0</td>\n      <td>1.0</td>\n      <td>335249.0</td>\n      <td>28.0</td>\n      <td>335249.0</td>\n      <td>28.0</td>\n      <td>1</td>\n    </tr>\n    <tr>\n      <th>2</th>\n      <td>FIN1000003</td>\n      <td>800001</td>\n      <td>844101</td>\n      <td>M</td>\n      <td>M</td>\n      <td>Business</td>\n      <td>Class XII</td>\n      <td>Level 1</td>\n      <td>Level 1</td>\n      <td>2.0</td>\n      <td>Confirmation</td>\n      <td>M</td>\n      <td>0.0</td>\n      <td>0.0</td>\n      <td>357184.0</td>\n      <td>24.0</td>\n      <td>357184.0</td>\n      <td>24.0</td>\n      <td>0</td>\n    </tr>\n    <tr>\n      <th>3</th>\n      <td>FIN1000004</td>\n      <td>814112</td>\n      <td>814112</td>\n      <td>M</td>\n      <td>S</td>\n      <td>Salaried</td>\n      <td>Class XII</td>\n      <td>Level 1</td>\n      <td>Level 3</td>\n      <td>4.0</td>\n      <td>Confirmation</td>\n      <td>F</td>\n      <td>0.0</td>\n      <td>0.0</td>\n      <td>318356.0</td>\n      <td>22.0</td>\n      <td>318356.0</td>\n      <td>22.0</td>\n      <td>0</td>\n    </tr>\n    <tr>\n      <th>4</th>\n      <td>FIN1000005</td>\n      <td>814112</td>\n      <td>815351</td>\n      <td>M</td>\n      <td>M</td>\n      <td>Others</td>\n      <td>Class XII</td>\n      <td>Level 1</td>\n      <td>Level 1</td>\n      <td>2.0</td>\n      <td>Confirmation</td>\n      <td>M</td>\n      <td>2.0</td>\n      <td>1.0</td>\n      <td>230402.0</td>\n      <td>17.0</td>\n      <td>230402.0</td>\n      <td>17.0</td>\n      <td>0</td>\n    </tr>\n  </tbody>\n</table>\n</div>"
     },
     "metadata": {},
     "execution_count": 3
    }
   ],
   "source": [
    "df.head()"
   ]
  },
  {
   "cell_type": "code",
   "execution_count": 4,
   "metadata": {},
   "outputs": [
    {
     "output_type": "execute_result",
     "data": {
      "text/plain": "Index(['ID', 'Office_PIN', 'Applicant_City_PIN', 'Applicant_Gender',\n       'Applicant_Marital_Status', 'Applicant_Occupation',\n       'Applicant_Qualification', 'Manager_Joining_Designation',\n       'Manager_Current_Designation', 'Manager_Grade', 'Manager_Status',\n       'Manager_Gender', 'Manager_Num_Application', 'Manager_Num_Coded',\n       'Manager_Business', 'Manager_Num_Products', 'Manager_Business2',\n       'Manager_Num_Products2', 'Business_Sourced'],\n      dtype='object')"
     },
     "metadata": {},
     "execution_count": 4
    }
   ],
   "source": [
    "df.columns"
   ]
  },
  {
   "cell_type": "markdown",
   "metadata": {},
   "source": [
    "## Imputing Missing Values"
   ]
  },
  {
   "cell_type": "code",
   "execution_count": 5,
   "metadata": {
    "scrolled": true
   },
   "outputs": [
    {
     "output_type": "execute_result",
     "data": {
      "text/plain": "ID                                0\nOffice_PIN                        0\nApplicant_City_PIN                0\nApplicant_Gender                 53\nApplicant_Marital_Status         59\nApplicant_Occupation           1090\nApplicant_Qualification          71\nManager_Joining_Designation       0\nManager_Current_Designation       0\nManager_Grade                     0\nManager_Status                    0\nManager_Gender                    0\nManager_Num_Application           0\nManager_Num_Coded                 0\nManager_Business                  0\nManager_Num_Products              0\nManager_Business2                 0\nManager_Num_Products2             0\nBusiness_Sourced                  0\ndtype: int64"
     },
     "metadata": {},
     "execution_count": 5
    }
   ],
   "source": [
    "df.isnull().sum()"
   ]
  },
  {
   "cell_type": "code",
   "execution_count": 6,
   "metadata": {},
   "outputs": [
    {
     "output_type": "execute_result",
     "data": {
      "text/plain": "  Applicant_Gender Applicant_Marital_Status Applicant_Occupation  \\\n0                M                        M               Others   \n1                M                        S               Others   \n2                M                        M             Business   \n3                M                        S             Salaried   \n4                M                        M               Others   \n\n  Applicant_Qualification  \n0                Graduate  \n1               Class XII  \n2               Class XII  \n3               Class XII  \n4               Class XII  ",
      "text/html": "<div>\n<style scoped>\n    .dataframe tbody tr th:only-of-type {\n        vertical-align: middle;\n    }\n\n    .dataframe tbody tr th {\n        vertical-align: top;\n    }\n\n    .dataframe thead th {\n        text-align: right;\n    }\n</style>\n<table border=\"1\" class=\"dataframe\">\n  <thead>\n    <tr style=\"text-align: right;\">\n      <th></th>\n      <th>Applicant_Gender</th>\n      <th>Applicant_Marital_Status</th>\n      <th>Applicant_Occupation</th>\n      <th>Applicant_Qualification</th>\n    </tr>\n  </thead>\n  <tbody>\n    <tr>\n      <th>0</th>\n      <td>M</td>\n      <td>M</td>\n      <td>Others</td>\n      <td>Graduate</td>\n    </tr>\n    <tr>\n      <th>1</th>\n      <td>M</td>\n      <td>S</td>\n      <td>Others</td>\n      <td>Class XII</td>\n    </tr>\n    <tr>\n      <th>2</th>\n      <td>M</td>\n      <td>M</td>\n      <td>Business</td>\n      <td>Class XII</td>\n    </tr>\n    <tr>\n      <th>3</th>\n      <td>M</td>\n      <td>S</td>\n      <td>Salaried</td>\n      <td>Class XII</td>\n    </tr>\n    <tr>\n      <th>4</th>\n      <td>M</td>\n      <td>M</td>\n      <td>Others</td>\n      <td>Class XII</td>\n    </tr>\n  </tbody>\n</table>\n</div>"
     },
     "metadata": {},
     "execution_count": 6
    }
   ],
   "source": [
    "df[['Applicant_Gender','Applicant_Marital_Status', 'Applicant_Occupation', 'Applicant_Qualification']].head()"
   ]
  },
  {
   "cell_type": "markdown",
   "metadata": {},
   "source": [
    "**1. Missing Values in Applicant Gender**"
   ]
  },
  {
   "cell_type": "code",
   "execution_count": 7,
   "metadata": {
    "scrolled": true
   },
   "outputs": [
    {
     "output_type": "execute_result",
     "data": {
      "text/plain": "M    6656\nF    2135\nName: Applicant_Gender, dtype: int64"
     },
     "metadata": {},
     "execution_count": 7
    }
   ],
   "source": [
    "#checking value_Counts\n",
    "df['Applicant_Gender'].value_counts()"
   ]
  },
  {
   "cell_type": "code",
   "execution_count": 8,
   "metadata": {},
   "outputs": [],
   "source": [
    "#imputing missing with mode\n",
    "df['Applicant_Gender'].fillna('M', inplace=True)"
   ]
  },
  {
   "cell_type": "markdown",
   "metadata": {},
   "source": [
    "**2. Missing Values in Applicant Marital Status**"
   ]
  },
  {
   "cell_type": "code",
   "execution_count": 9,
   "metadata": {
    "scrolled": true
   },
   "outputs": [
    {
     "output_type": "execute_result",
     "data": {
      "text/plain": "M    5733\nS    3042\nW       6\nD       4\nName: Applicant_Marital_Status, dtype: int64"
     },
     "metadata": {},
     "execution_count": 9
    }
   ],
   "source": [
    "#checking value_Counts\n",
    "df['Applicant_Marital_Status'].value_counts()"
   ]
  },
  {
   "cell_type": "code",
   "execution_count": 10,
   "metadata": {},
   "outputs": [],
   "source": [
    "#imputing missing with mode\n",
    "\n",
    "df['Applicant_Marital_Status'].fillna('M', inplace=True)"
   ]
  },
  {
   "cell_type": "markdown",
   "metadata": {},
   "source": [
    "**3. Missing Values in Applicant Occupation**"
   ]
  },
  {
   "cell_type": "code",
   "execution_count": 11,
   "metadata": {},
   "outputs": [
    {
     "output_type": "execute_result",
     "data": {
      "text/plain": "Salaried         3546\nBusiness         2157\nOthers           1809\nSelf Employed     146\nStudent            96\nName: Applicant_Occupation, dtype: int64"
     },
     "metadata": {},
     "execution_count": 11
    }
   ],
   "source": [
    "#checking value_Counts\n",
    "df['Applicant_Occupation'].value_counts()"
   ]
  },
  {
   "cell_type": "code",
   "execution_count": 12,
   "metadata": {
    "collapsed": true
   },
   "outputs": [],
   "source": [
    "#imputing missing with mode\n",
    "\n",
    "df['Applicant_Occupation'].fillna('Salaried', inplace=True)"
   ]
  },
  {
   "cell_type": "markdown",
   "metadata": {},
   "source": [
    "**4. Missing Values in Applicant Qualification**"
   ]
  },
  {
   "cell_type": "code",
   "execution_count": 13,
   "metadata": {},
   "outputs": [
    {
     "output_type": "execute_result",
     "data": {
      "text/plain": "Class XII                                                           5426\nGraduate                                                            2958\nClass X                                                              195\nOthers                                                               116\nMasters of Business Administration                                    71\nAssociate / Fellow of Institute of Chartered Accountans of India       3\nAssociate/Fellow of Acturial Society of India                          1\nAssociate/Fellow of Institute of Company Secretories of India          1\nAssociate/Fellow of Insurance Institute of India                       1\nProfessional Qualification in Marketing                                1\nName: Applicant_Qualification, dtype: int64"
     },
     "metadata": {},
     "execution_count": 13
    }
   ],
   "source": [
    "#checking value_Counts\n",
    "df['Applicant_Qualification'].value_counts()"
   ]
  },
  {
   "cell_type": "code",
   "execution_count": 14,
   "metadata": {
    "collapsed": true
   },
   "outputs": [],
   "source": [
    "#imputing missing with mode\n",
    "\n",
    "df['Applicant_Qualification'].fillna('Class XII', inplace=True)"
   ]
  },
  {
   "cell_type": "code",
   "execution_count": 15,
   "metadata": {
    "scrolled": true
   },
   "outputs": [
    {
     "output_type": "execute_result",
     "data": {
      "text/plain": "ID                             0\nOffice_PIN                     0\nApplicant_City_PIN             0\nApplicant_Gender               0\nApplicant_Marital_Status       0\nApplicant_Occupation           0\nApplicant_Qualification        0\nManager_Joining_Designation    0\nManager_Current_Designation    0\nManager_Grade                  0\nManager_Status                 0\nManager_Gender                 0\nManager_Num_Application        0\nManager_Num_Coded              0\nManager_Business               0\nManager_Num_Products           0\nManager_Business2              0\nManager_Num_Products2          0\nBusiness_Sourced               0\ndtype: int64"
     },
     "metadata": {},
     "execution_count": 15
    }
   ],
   "source": [
    "df.isnull().sum()"
   ]
  },
  {
   "cell_type": "markdown",
   "metadata": {},
   "source": [
    "## Dealing with Categorical Variables"
   ]
  },
  {
   "cell_type": "code",
   "execution_count": 16,
   "metadata": {},
   "outputs": [
    {
     "output_type": "execute_result",
     "data": {
      "text/plain": "ID                              object\nOffice_PIN                       int64\nApplicant_City_PIN               int64\nApplicant_Gender                object\nApplicant_Marital_Status        object\nApplicant_Occupation            object\nApplicant_Qualification         object\nManager_Joining_Designation     object\nManager_Current_Designation     object\nManager_Grade                  float64\nManager_Status                  object\nManager_Gender                  object\nManager_Num_Application        float64\nManager_Num_Coded              float64\nManager_Business               float64\nManager_Num_Products           float64\nManager_Business2              float64\nManager_Num_Products2          float64\nBusiness_Sourced                 int64\ndtype: object"
     },
     "metadata": {},
     "execution_count": 16
    }
   ],
   "source": [
    "df.dtypes"
   ]
  },
  {
   "cell_type": "code",
   "execution_count": 17,
   "metadata": {},
   "outputs": [
    {
     "output_type": "execute_result",
     "data": {
      "text/plain": "Index(['ID', 'Office_PIN', 'Applicant_City_PIN', 'Applicant_Gender',\n       'Applicant_Marital_Status', 'Applicant_Occupation',\n       'Applicant_Qualification', 'Manager_Joining_Designation',\n       'Manager_Current_Designation', 'Manager_Grade', 'Manager_Status',\n       'Manager_Gender', 'Manager_Num_Application', 'Manager_Num_Coded',\n       'Manager_Business', 'Manager_Num_Products', 'Manager_Business2',\n       'Manager_Num_Products2', 'Business_Sourced'],\n      dtype='object')"
     },
     "metadata": {},
     "execution_count": 17
    }
   ],
   "source": [
    "df.columns"
   ]
  },
  {
   "cell_type": "code",
   "execution_count": 18,
   "metadata": {},
   "outputs": [
    {
     "output_type": "stream",
     "name": "stdout",
     "text": "***** Applicant_Gender *****\nM    6709\nF    2135\nName: Applicant_Gender, dtype: int64\n\n***** Applicant_Marital_Status *****\nM    5792\nS    3042\nW       6\nD       4\nName: Applicant_Marital_Status, dtype: int64\n\n***** Applicant_Occupation *****\nSalaried         4636\nBusiness         2157\nOthers           1809\nSelf Employed     146\nStudent            96\nName: Applicant_Occupation, dtype: int64\n\n***** Applicant_Qualification *****\nClass XII                                                           5497\nGraduate                                                            2958\nClass X                                                              195\nOthers                                                               116\nMasters of Business Administration                                    71\nAssociate / Fellow of Institute of Chartered Accountans of India       3\nAssociate/Fellow of Acturial Society of India                          1\nAssociate/Fellow of Institute of Company Secretories of India          1\nAssociate/Fellow of Insurance Institute of India                       1\nProfessional Qualification in Marketing                                1\nName: Applicant_Qualification, dtype: int64\n\n***** Manager_Joining_Designation *****\nLevel 1    4632\nLevel 2    2787\nLevel 3    1146\nLevel 4     200\nOther        58\nLevel 6      18\nLevel 7       2\nLevel 5       1\nName: Manager_Joining_Designation, dtype: int64\n\n***** Manager_Current_Designation *****\nLevel 2    3208\nLevel 1    2479\nLevel 3    2033\nLevel 4    1031\nLevel 5      93\nName: Manager_Current_Designation, dtype: int64\n\n***** Manager_Status *****\nConfirmation    5277\nProbation       3567\nName: Manager_Status, dtype: int64\n\n***** Manager_Gender *****\nM    7627\nF    1217\nName: Manager_Gender, dtype: int64\n\n"
    }
   ],
   "source": [
    "categorical_cols = ['Applicant_Gender','Applicant_Marital_Status','Applicant_Occupation','Applicant_Qualification',\n",
    "                   'Manager_Joining_Designation', 'Manager_Current_Designation', 'Manager_Status', 'Manager_Gender']\n",
    "\n",
    "for i in categorical_cols:\n",
    "    print('*****', i, '*****')\n",
    "    print(df[i].value_counts())\n",
    "    print('')"
   ]
  },
  {
   "cell_type": "code",
   "execution_count": 19,
   "metadata": {
    "collapsed": true
   },
   "outputs": [],
   "source": [
    "df = pd.get_dummies(df)"
   ]
  },
  {
   "cell_type": "markdown",
   "metadata": {},
   "source": [
    "## Logistic regression"
   ]
  },
  {
   "cell_type": "markdown",
   "metadata": {},
   "source": [
    "### Train Test split"
   ]
  },
  {
   "cell_type": "code",
   "execution_count": 20,
   "metadata": {},
   "outputs": [],
   "source": [
    "x = df.drop(['Business_Sourced'],axis=1)\n",
    "y = df['Business_Sourced']"
   ]
  },
  {
   "cell_type": "code",
   "execution_count": 21,
   "metadata": {
    "collapsed": true
   },
   "outputs": [],
   "source": [
    "from sklearn.model_selection import train_test_split\n",
    "train_x, valid_x, train_y, valid_y= train_test_split(x, y, test_size = 0.3, random_state=1)"
   ]
  },
  {
   "cell_type": "markdown",
   "metadata": {},
   "source": [
    "### Linear regression Model"
   ]
  },
  {
   "cell_type": "code",
   "execution_count": 22,
   "metadata": {
    "collapsed": true
   },
   "outputs": [],
   "source": [
    "from sklearn.linear_model import LogisticRegression\n",
    "from sklearn.metrics import f1_score, auc\n",
    "from sklearn.metrics import roc_auc_score"
   ]
  },
  {
   "cell_type": "code",
   "execution_count": 23,
   "metadata": {},
   "outputs": [
    {
     "output_type": "execute_result",
     "data": {
      "text/plain": "LogisticRegression()"
     },
     "metadata": {},
     "execution_count": 23
    }
   ],
   "source": [
    "logreg = LogisticRegression()\n",
    "logreg.fit(train_x, train_y)"
   ]
  },
  {
   "cell_type": "code",
   "execution_count": 24,
   "metadata": {
    "collapsed": true
   },
   "outputs": [],
   "source": [
    "pred_train = logreg.predict_proba(train_x)\n",
    "pred_valid = logreg.predict_proba(valid_x)"
   ]
  },
  {
   "cell_type": "code",
   "execution_count": 25,
   "metadata": {},
   "outputs": [
    {
     "output_type": "execute_result",
     "data": {
      "text/plain": "0.4723339792143738"
     },
     "metadata": {},
     "execution_count": 25
    }
   ],
   "source": [
    "roc_auc_score(train_y, pred_train[:,1])"
   ]
  },
  {
   "cell_type": "code",
   "execution_count": 26,
   "metadata": {},
   "outputs": [
    {
     "output_type": "execute_result",
     "data": {
      "text/plain": "0.4697625904030554"
     },
     "metadata": {},
     "execution_count": 26
    }
   ],
   "source": [
    "roc_auc_score(valid_y, pred_valid[:,1])"
   ]
  },
  {
   "cell_type": "markdown",
   "metadata": {},
   "source": [
    "### Random Forest Classifier"
   ]
  },
  {
   "cell_type": "code",
   "execution_count": 27,
   "metadata": {},
   "outputs": [],
   "source": [
    "from sklearn.ensemble import RandomForestClassifier\n",
    "rf = RandomForestClassifier(n_estimators=100, max_depth= 4, random_state=2)"
   ]
  },
  {
   "cell_type": "code",
   "execution_count": 28,
   "metadata": {},
   "outputs": [
    {
     "output_type": "execute_result",
     "data": {
      "text/plain": "RandomForestClassifier(max_depth=4, random_state=2)"
     },
     "metadata": {},
     "execution_count": 28
    }
   ],
   "source": [
    "rf.fit(train_x, train_y)"
   ]
  },
  {
   "cell_type": "code",
   "execution_count": 29,
   "metadata": {
    "collapsed": true
   },
   "outputs": [],
   "source": [
    "pred_train_rf = rf.predict_proba(train_x)\n",
    "pred_valid_rf = rf.predict_proba(valid_x)"
   ]
  },
  {
   "cell_type": "code",
   "execution_count": 30,
   "metadata": {},
   "outputs": [
    {
     "output_type": "execute_result",
     "data": {
      "text/plain": "0.6219390869687003"
     },
     "metadata": {},
     "execution_count": 30
    }
   ],
   "source": [
    "roc_auc_score(train_y, pred_train_rf[:,1])"
   ]
  },
  {
   "cell_type": "code",
   "execution_count": 31,
   "metadata": {},
   "outputs": [
    {
     "output_type": "execute_result",
     "data": {
      "text/plain": "0.5707349946164473"
     },
     "metadata": {},
     "execution_count": 31
    }
   ],
   "source": [
    "roc_auc_score(valid_y, pred_valid_rf[:,1])"
   ]
  },
  {
   "cell_type": "code",
   "execution_count": null,
   "metadata": {
    "collapsed": true
   },
   "outputs": [],
   "source": []
  }
 ],
 "metadata": {
  "kernelspec": {
   "display_name": "Python 3",
   "language": "python",
   "name": "python3"
  },
  "language_info": {
   "codemirror_mode": {
    "name": "ipython",
    "version": 3
   },
   "file_extension": ".py",
   "mimetype": "text/x-python",
   "name": "python",
   "nbconvert_exporter": "python",
   "pygments_lexer": "ipython3",
   "version": "3.7.4-final"
  }
 },
 "nbformat": 4,
 "nbformat_minor": 2
}